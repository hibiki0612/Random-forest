{
 "cells": [
  {
   "cell_type": "code",
   "execution_count": 1,
   "id": "9651a956",
   "metadata": {},
   "outputs": [],
   "source": [
    "import pandas as pd\n",
    "import datetime\n",
    "from sklearn.model_selection import train_test_split\n",
    "from sklearn.ensemble import RandomForestClassifier\n",
    "import optuna.integration.lightgbm as lgb\n",
    "import seaborn as sns\n",
    "import matplotlib.pyplot as plt\n",
    "import numpy as np"
   ]
  },
  {
   "cell_type": "code",
   "execution_count": 2,
   "id": "e1e8e073",
   "metadata": {},
   "outputs": [],
   "source": [
    "train_path = 'train.csv'\n",
    "test_path = 'test.csv'"
   ]
  },
  {
   "cell_type": "code",
   "execution_count": 3,
   "id": "623dac81",
   "metadata": {},
   "outputs": [],
   "source": [
    "train = pd.read_csv(train_path)\n",
    "test = pd.read_csv(test_path)"
   ]
  },
  {
   "cell_type": "code",
   "execution_count": 4,
   "id": "4566ff4d",
   "metadata": {},
   "outputs": [
    {
     "data": {
      "text/html": [
       "<div>\n",
       "<style scoped>\n",
       "    .dataframe tbody tr th:only-of-type {\n",
       "        vertical-align: middle;\n",
       "    }\n",
       "\n",
       "    .dataframe tbody tr th {\n",
       "        vertical-align: top;\n",
       "    }\n",
       "\n",
       "    .dataframe thead th {\n",
       "        text-align: right;\n",
       "    }\n",
       "</style>\n",
       "<table border=\"1\" class=\"dataframe\">\n",
       "  <thead>\n",
       "    <tr style=\"text-align: right;\">\n",
       "      <th></th>\n",
       "      <th>battery_power</th>\n",
       "      <th>blue</th>\n",
       "      <th>clock_speed</th>\n",
       "      <th>dual_sim</th>\n",
       "      <th>fc</th>\n",
       "      <th>four_g</th>\n",
       "      <th>int_memory</th>\n",
       "      <th>m_dep</th>\n",
       "      <th>mobile_wt</th>\n",
       "      <th>n_cores</th>\n",
       "      <th>...</th>\n",
       "      <th>px_height</th>\n",
       "      <th>px_width</th>\n",
       "      <th>ram</th>\n",
       "      <th>sc_h</th>\n",
       "      <th>sc_w</th>\n",
       "      <th>talk_time</th>\n",
       "      <th>three_g</th>\n",
       "      <th>touch_screen</th>\n",
       "      <th>wifi</th>\n",
       "      <th>price_range</th>\n",
       "    </tr>\n",
       "  </thead>\n",
       "  <tbody>\n",
       "    <tr>\n",
       "      <th>0</th>\n",
       "      <td>842</td>\n",
       "      <td>0</td>\n",
       "      <td>2.2</td>\n",
       "      <td>0</td>\n",
       "      <td>1</td>\n",
       "      <td>0</td>\n",
       "      <td>7</td>\n",
       "      <td>0.6</td>\n",
       "      <td>188</td>\n",
       "      <td>2</td>\n",
       "      <td>...</td>\n",
       "      <td>20</td>\n",
       "      <td>756</td>\n",
       "      <td>2549</td>\n",
       "      <td>9</td>\n",
       "      <td>7</td>\n",
       "      <td>19</td>\n",
       "      <td>0</td>\n",
       "      <td>0</td>\n",
       "      <td>1</td>\n",
       "      <td>1</td>\n",
       "    </tr>\n",
       "    <tr>\n",
       "      <th>1</th>\n",
       "      <td>1021</td>\n",
       "      <td>1</td>\n",
       "      <td>0.5</td>\n",
       "      <td>1</td>\n",
       "      <td>0</td>\n",
       "      <td>1</td>\n",
       "      <td>53</td>\n",
       "      <td>0.7</td>\n",
       "      <td>136</td>\n",
       "      <td>3</td>\n",
       "      <td>...</td>\n",
       "      <td>905</td>\n",
       "      <td>1988</td>\n",
       "      <td>2631</td>\n",
       "      <td>17</td>\n",
       "      <td>3</td>\n",
       "      <td>7</td>\n",
       "      <td>1</td>\n",
       "      <td>1</td>\n",
       "      <td>0</td>\n",
       "      <td>2</td>\n",
       "    </tr>\n",
       "    <tr>\n",
       "      <th>2</th>\n",
       "      <td>563</td>\n",
       "      <td>1</td>\n",
       "      <td>0.5</td>\n",
       "      <td>1</td>\n",
       "      <td>2</td>\n",
       "      <td>1</td>\n",
       "      <td>41</td>\n",
       "      <td>0.9</td>\n",
       "      <td>145</td>\n",
       "      <td>5</td>\n",
       "      <td>...</td>\n",
       "      <td>1263</td>\n",
       "      <td>1716</td>\n",
       "      <td>2603</td>\n",
       "      <td>11</td>\n",
       "      <td>2</td>\n",
       "      <td>9</td>\n",
       "      <td>1</td>\n",
       "      <td>1</td>\n",
       "      <td>0</td>\n",
       "      <td>2</td>\n",
       "    </tr>\n",
       "    <tr>\n",
       "      <th>3</th>\n",
       "      <td>615</td>\n",
       "      <td>1</td>\n",
       "      <td>2.5</td>\n",
       "      <td>0</td>\n",
       "      <td>0</td>\n",
       "      <td>0</td>\n",
       "      <td>10</td>\n",
       "      <td>0.8</td>\n",
       "      <td>131</td>\n",
       "      <td>6</td>\n",
       "      <td>...</td>\n",
       "      <td>1216</td>\n",
       "      <td>1786</td>\n",
       "      <td>2769</td>\n",
       "      <td>16</td>\n",
       "      <td>8</td>\n",
       "      <td>11</td>\n",
       "      <td>1</td>\n",
       "      <td>0</td>\n",
       "      <td>0</td>\n",
       "      <td>2</td>\n",
       "    </tr>\n",
       "    <tr>\n",
       "      <th>4</th>\n",
       "      <td>1821</td>\n",
       "      <td>1</td>\n",
       "      <td>1.2</td>\n",
       "      <td>0</td>\n",
       "      <td>13</td>\n",
       "      <td>1</td>\n",
       "      <td>44</td>\n",
       "      <td>0.6</td>\n",
       "      <td>141</td>\n",
       "      <td>2</td>\n",
       "      <td>...</td>\n",
       "      <td>1208</td>\n",
       "      <td>1212</td>\n",
       "      <td>1411</td>\n",
       "      <td>8</td>\n",
       "      <td>2</td>\n",
       "      <td>15</td>\n",
       "      <td>1</td>\n",
       "      <td>1</td>\n",
       "      <td>0</td>\n",
       "      <td>1</td>\n",
       "    </tr>\n",
       "  </tbody>\n",
       "</table>\n",
       "<p>5 rows × 21 columns</p>\n",
       "</div>"
      ],
      "text/plain": [
       "   battery_power  blue  clock_speed  dual_sim  fc  four_g  int_memory  m_dep  \\\n",
       "0            842     0          2.2         0   1       0           7    0.6   \n",
       "1           1021     1          0.5         1   0       1          53    0.7   \n",
       "2            563     1          0.5         1   2       1          41    0.9   \n",
       "3            615     1          2.5         0   0       0          10    0.8   \n",
       "4           1821     1          1.2         0  13       1          44    0.6   \n",
       "\n",
       "   mobile_wt  n_cores  ...  px_height  px_width   ram  sc_h  sc_w  talk_time  \\\n",
       "0        188        2  ...         20       756  2549     9     7         19   \n",
       "1        136        3  ...        905      1988  2631    17     3          7   \n",
       "2        145        5  ...       1263      1716  2603    11     2          9   \n",
       "3        131        6  ...       1216      1786  2769    16     8         11   \n",
       "4        141        2  ...       1208      1212  1411     8     2         15   \n",
       "\n",
       "   three_g  touch_screen  wifi  price_range  \n",
       "0        0             0     1            1  \n",
       "1        1             1     0            2  \n",
       "2        1             1     0            2  \n",
       "3        1             0     0            2  \n",
       "4        1             1     0            1  \n",
       "\n",
       "[5 rows x 21 columns]"
      ]
     },
     "execution_count": 4,
     "metadata": {},
     "output_type": "execute_result"
    }
   ],
   "source": [
    "train.head()"
   ]
  },
  {
   "cell_type": "code",
   "execution_count": 5,
   "id": "c1533dbe",
   "metadata": {},
   "outputs": [
    {
     "data": {
      "text/html": [
       "<div>\n",
       "<style scoped>\n",
       "    .dataframe tbody tr th:only-of-type {\n",
       "        vertical-align: middle;\n",
       "    }\n",
       "\n",
       "    .dataframe tbody tr th {\n",
       "        vertical-align: top;\n",
       "    }\n",
       "\n",
       "    .dataframe thead th {\n",
       "        text-align: right;\n",
       "    }\n",
       "</style>\n",
       "<table border=\"1\" class=\"dataframe\">\n",
       "  <thead>\n",
       "    <tr style=\"text-align: right;\">\n",
       "      <th></th>\n",
       "      <th>id</th>\n",
       "      <th>battery_power</th>\n",
       "      <th>blue</th>\n",
       "      <th>clock_speed</th>\n",
       "      <th>dual_sim</th>\n",
       "      <th>fc</th>\n",
       "      <th>four_g</th>\n",
       "      <th>int_memory</th>\n",
       "      <th>m_dep</th>\n",
       "      <th>mobile_wt</th>\n",
       "      <th>...</th>\n",
       "      <th>pc</th>\n",
       "      <th>px_height</th>\n",
       "      <th>px_width</th>\n",
       "      <th>ram</th>\n",
       "      <th>sc_h</th>\n",
       "      <th>sc_w</th>\n",
       "      <th>talk_time</th>\n",
       "      <th>three_g</th>\n",
       "      <th>touch_screen</th>\n",
       "      <th>wifi</th>\n",
       "    </tr>\n",
       "  </thead>\n",
       "  <tbody>\n",
       "    <tr>\n",
       "      <th>0</th>\n",
       "      <td>1</td>\n",
       "      <td>1043</td>\n",
       "      <td>1</td>\n",
       "      <td>1.8</td>\n",
       "      <td>1</td>\n",
       "      <td>14</td>\n",
       "      <td>0</td>\n",
       "      <td>5</td>\n",
       "      <td>0.1</td>\n",
       "      <td>193</td>\n",
       "      <td>...</td>\n",
       "      <td>16</td>\n",
       "      <td>226</td>\n",
       "      <td>1412</td>\n",
       "      <td>3476</td>\n",
       "      <td>12</td>\n",
       "      <td>7</td>\n",
       "      <td>2</td>\n",
       "      <td>0</td>\n",
       "      <td>1</td>\n",
       "      <td>0</td>\n",
       "    </tr>\n",
       "    <tr>\n",
       "      <th>1</th>\n",
       "      <td>2</td>\n",
       "      <td>841</td>\n",
       "      <td>1</td>\n",
       "      <td>0.5</td>\n",
       "      <td>1</td>\n",
       "      <td>4</td>\n",
       "      <td>1</td>\n",
       "      <td>61</td>\n",
       "      <td>0.8</td>\n",
       "      <td>191</td>\n",
       "      <td>...</td>\n",
       "      <td>12</td>\n",
       "      <td>746</td>\n",
       "      <td>857</td>\n",
       "      <td>3895</td>\n",
       "      <td>6</td>\n",
       "      <td>0</td>\n",
       "      <td>7</td>\n",
       "      <td>1</td>\n",
       "      <td>0</td>\n",
       "      <td>0</td>\n",
       "    </tr>\n",
       "    <tr>\n",
       "      <th>2</th>\n",
       "      <td>3</td>\n",
       "      <td>1807</td>\n",
       "      <td>1</td>\n",
       "      <td>2.8</td>\n",
       "      <td>0</td>\n",
       "      <td>1</td>\n",
       "      <td>0</td>\n",
       "      <td>27</td>\n",
       "      <td>0.9</td>\n",
       "      <td>186</td>\n",
       "      <td>...</td>\n",
       "      <td>4</td>\n",
       "      <td>1270</td>\n",
       "      <td>1366</td>\n",
       "      <td>2396</td>\n",
       "      <td>17</td>\n",
       "      <td>10</td>\n",
       "      <td>10</td>\n",
       "      <td>0</td>\n",
       "      <td>1</td>\n",
       "      <td>1</td>\n",
       "    </tr>\n",
       "    <tr>\n",
       "      <th>3</th>\n",
       "      <td>4</td>\n",
       "      <td>1546</td>\n",
       "      <td>0</td>\n",
       "      <td>0.5</td>\n",
       "      <td>1</td>\n",
       "      <td>18</td>\n",
       "      <td>1</td>\n",
       "      <td>25</td>\n",
       "      <td>0.5</td>\n",
       "      <td>96</td>\n",
       "      <td>...</td>\n",
       "      <td>20</td>\n",
       "      <td>295</td>\n",
       "      <td>1752</td>\n",
       "      <td>3893</td>\n",
       "      <td>10</td>\n",
       "      <td>0</td>\n",
       "      <td>7</td>\n",
       "      <td>1</td>\n",
       "      <td>1</td>\n",
       "      <td>0</td>\n",
       "    </tr>\n",
       "    <tr>\n",
       "      <th>4</th>\n",
       "      <td>5</td>\n",
       "      <td>1434</td>\n",
       "      <td>0</td>\n",
       "      <td>1.4</td>\n",
       "      <td>0</td>\n",
       "      <td>11</td>\n",
       "      <td>1</td>\n",
       "      <td>49</td>\n",
       "      <td>0.5</td>\n",
       "      <td>108</td>\n",
       "      <td>...</td>\n",
       "      <td>18</td>\n",
       "      <td>749</td>\n",
       "      <td>810</td>\n",
       "      <td>1773</td>\n",
       "      <td>15</td>\n",
       "      <td>8</td>\n",
       "      <td>7</td>\n",
       "      <td>1</td>\n",
       "      <td>0</td>\n",
       "      <td>1</td>\n",
       "    </tr>\n",
       "  </tbody>\n",
       "</table>\n",
       "<p>5 rows × 21 columns</p>\n",
       "</div>"
      ],
      "text/plain": [
       "   id  battery_power  blue  clock_speed  dual_sim  fc  four_g  int_memory  \\\n",
       "0   1           1043     1          1.8         1  14       0           5   \n",
       "1   2            841     1          0.5         1   4       1          61   \n",
       "2   3           1807     1          2.8         0   1       0          27   \n",
       "3   4           1546     0          0.5         1  18       1          25   \n",
       "4   5           1434     0          1.4         0  11       1          49   \n",
       "\n",
       "   m_dep  mobile_wt  ...  pc  px_height  px_width   ram  sc_h  sc_w  \\\n",
       "0    0.1        193  ...  16        226      1412  3476    12     7   \n",
       "1    0.8        191  ...  12        746       857  3895     6     0   \n",
       "2    0.9        186  ...   4       1270      1366  2396    17    10   \n",
       "3    0.5         96  ...  20        295      1752  3893    10     0   \n",
       "4    0.5        108  ...  18        749       810  1773    15     8   \n",
       "\n",
       "   talk_time  three_g  touch_screen  wifi  \n",
       "0          2        0             1     0  \n",
       "1          7        1             0     0  \n",
       "2         10        0             1     1  \n",
       "3          7        1             1     0  \n",
       "4          7        1             0     1  \n",
       "\n",
       "[5 rows x 21 columns]"
      ]
     },
     "execution_count": 5,
     "metadata": {},
     "output_type": "execute_result"
    }
   ],
   "source": [
    "test.head()"
   ]
  },
  {
   "cell_type": "code",
   "execution_count": null,
   "id": "b9317147",
   "metadata": {},
   "outputs": [],
   "source": []
  },
  {
   "cell_type": "code",
   "execution_count": 24,
   "id": "4d8ef7cb",
   "metadata": {},
   "outputs": [],
   "source": [
    "x_imp=train.loc[:,['battery_power','px_height','px_width','ram']].values\n",
    "y = train[\"price_range\"].values\n",
    "\n",
    "\n",
    "x_train,x_test,y_train,y_test = train_test_split(x_imp,y,test_size=0.3,random_state=1234)"
   ]
  },
  {
   "cell_type": "code",
   "execution_count": 25,
   "id": "d26c6eeb",
   "metadata": {},
   "outputs": [
    {
     "data": {
      "text/plain": [
       "<AxesSubplot:>"
      ]
     },
     "execution_count": 25,
     "metadata": {},
     "output_type": "execute_result"
    },
    {
     "data": {
      "image/png": "[encoded data removed]",
      "text/plain": [
       "<Figure size 792x1080 with 1 Axes>"
      ]
     },
     "metadata": {
      "needs_background": "light"
     },
     "output_type": "display_data"
    }
   ],
   "source": [
    "from sklearn.ensemble import RandomForestRegressor as RFR\n",
    "rf = RFR(n_estimators=80, max_features='auto')\n",
    "rf.fit(x, y)\n",
    "\n",
    "f, ax = plt.subplots(figsize=(11, 15))\n",
    "sns.barplot(x=rf.feature_importances_, y=train_data.columns.values, orient='h')"
   ]
  },
  {
   "cell_type": "code",
   "execution_count": 26,
   "id": "607a8731",
   "metadata": {},
   "outputs": [
    {
     "data": {
      "text/plain": [
       "RandomForestClassifier(random_state=1234)"
      ]
     },
     "execution_count": 26,
     "metadata": {},
     "output_type": "execute_result"
    }
   ],
   "source": [
    "clf = RandomForestClassifier(n_estimators=100,random_state=1234)\n",
    "clf.fit(x_train,y_train)"
   ]
  },
  {
   "cell_type": "code",
   "execution_count": 27,
   "id": "3de2f1ed",
   "metadata": {},
   "outputs": [],
   "source": [
    "pred = clf.predict(x_test)"
   ]
  },
  {
   "cell_type": "code",
   "execution_count": 29,
   "id": "ca01c164",
   "metadata": {},
   "outputs": [
    {
     "name": "stdout",
     "output_type": "stream",
     "text": [
      "score= 0.9166666666666666\n"
     ]
    }
   ],
   "source": [
    "print('score=',clf.score(x_test,y_test))"
   ]
  },
  {
   "cell_type": "code",
   "execution_count": 30,
   "id": "58bf6757",
   "metadata": {},
   "outputs": [],
   "source": [
    "#特徴量の標準化\n",
    "x_train = (x_train - x_train.mean()) / x_train.std()\n",
    "x_test = (x_test - x_test.mean()) / x_test.std()"
   ]
  },
  {
   "cell_type": "code",
   "execution_count": 31,
   "id": "fce0ef1a",
   "metadata": {},
   "outputs": [
    {
     "ename": "KeyboardInterrupt",
     "evalue": "",
     "output_type": "error",
     "traceback": [
      "\u001b[0;31m---------------------------------------------------------------------------\u001b[0m",
      "\u001b[0;31mKeyboardInterrupt\u001b[0m                         Traceback (most recent call last)",
      "\u001b[0;32m<ipython-input-31-69a4bb643913>\u001b[0m in \u001b[0;36m<module>\u001b[0;34m\u001b[0m\n\u001b[1;32m      7\u001b[0m               })\n\u001b[1;32m      8\u001b[0m \u001b[0;34m\u001b[0m\u001b[0m\n\u001b[0;32m----> 9\u001b[0;31m \u001b[0mrfr_grid\u001b[0m \u001b[0;34m=\u001b[0m \u001b[0mrfr_grid\u001b[0m\u001b[0;34m.\u001b[0m\u001b[0mfit\u001b[0m\u001b[0;34m(\u001b[0m\u001b[0mx_train\u001b[0m\u001b[0;34m,\u001b[0m \u001b[0my_train\u001b[0m\u001b[0;34m)\u001b[0m\u001b[0;34m\u001b[0m\u001b[0;34m\u001b[0m\u001b[0m\n\u001b[0m\u001b[1;32m     10\u001b[0m \u001b[0mrfr_grid_best\u001b[0m \u001b[0;34m=\u001b[0m \u001b[0mrfr_grid\u001b[0m\u001b[0;34m.\u001b[0m\u001b[0mbest_estimator_\u001b[0m\u001b[0;34m\u001b[0m\u001b[0;34m\u001b[0m\u001b[0m\n",
      "\u001b[0;32m~/miniforge3/envs/my-env/lib/python3.9/site-packages/sklearn/utils/validation.py\u001b[0m in \u001b[0;36minner_f\u001b[0;34m(*args, **kwargs)\u001b[0m\n\u001b[1;32m     61\u001b[0m             \u001b[0mextra_args\u001b[0m \u001b[0;34m=\u001b[0m \u001b[0mlen\u001b[0m\u001b[0;34m(\u001b[0m\u001b[0margs\u001b[0m\u001b[0;34m)\u001b[0m \u001b[0;34m-\u001b[0m \u001b[0mlen\u001b[0m\u001b[0;34m(\u001b[0m\u001b[0mall_args\u001b[0m\u001b[0;34m)\u001b[0m\u001b[0;34m\u001b[0m\u001b[0;34m\u001b[0m\u001b[0m\n\u001b[1;32m     62\u001b[0m             \u001b[0;32mif\u001b[0m \u001b[0mextra_args\u001b[0m \u001b[0;34m<=\u001b[0m \u001b[0;36m0\u001b[0m\u001b[0;34m:\u001b[0m\u001b[0;34m\u001b[0m\u001b[0;34m\u001b[0m\u001b[0m\n\u001b[0;32m---> 63\u001b[0;31m                 \u001b[0;32mreturn\u001b[0m \u001b[0mf\u001b[0m\u001b[0;34m(\u001b[0m\u001b[0;34m*\u001b[0m\u001b[0margs\u001b[0m\u001b[0;34m,\u001b[0m \u001b[0;34m**\u001b[0m\u001b[0mkwargs\u001b[0m\u001b[0;34m)\u001b[0m\u001b[0;34m\u001b[0m\u001b[0;34m\u001b[0m\u001b[0m\n\u001b[0m\u001b[1;32m     64\u001b[0m \u001b[0;34m\u001b[0m\u001b[0m\n\u001b[1;32m     65\u001b[0m             \u001b[0;31m# extra_args > 0\u001b[0m\u001b[0;34m\u001b[0m\u001b[0;34m\u001b[0m\u001b[0;34m\u001b[0m\u001b[0m\n",
      "\u001b[0;32m~/miniforge3/envs/my-env/lib/python3.9/site-packages/sklearn/model_selection/_search.py\u001b[0m in \u001b[0;36mfit\u001b[0;34m(self, X, y, groups, **fit_params)\u001b[0m\n\u001b[1;32m    839\u001b[0m                 \u001b[0;32mreturn\u001b[0m \u001b[0mresults\u001b[0m\u001b[0;34m\u001b[0m\u001b[0;34m\u001b[0m\u001b[0m\n\u001b[1;32m    840\u001b[0m \u001b[0;34m\u001b[0m\u001b[0m\n\u001b[0;32m--> 841\u001b[0;31m             \u001b[0mself\u001b[0m\u001b[0;34m.\u001b[0m\u001b[0m_run_search\u001b[0m\u001b[0;34m(\u001b[0m\u001b[0mevaluate_candidates\u001b[0m\u001b[0;34m)\u001b[0m\u001b[0;34m\u001b[0m\u001b[0;34m\u001b[0m\u001b[0m\n\u001b[0m\u001b[1;32m    842\u001b[0m \u001b[0;34m\u001b[0m\u001b[0m\n\u001b[1;32m    843\u001b[0m             \u001b[0;31m# multimetric is determined here because in the case of a callable\u001b[0m\u001b[0;34m\u001b[0m\u001b[0;34m\u001b[0m\u001b[0;34m\u001b[0m\u001b[0m\n",
      "\u001b[0;32m~/miniforge3/envs/my-env/lib/python3.9/site-packages/sklearn/model_selection/_search.py\u001b[0m in \u001b[0;36m_run_search\u001b[0;34m(self, evaluate_candidates)\u001b[0m\n\u001b[1;32m   1294\u001b[0m     \u001b[0;32mdef\u001b[0m \u001b[0m_run_search\u001b[0m\u001b[0;34m(\u001b[0m\u001b[0mself\u001b[0m\u001b[0;34m,\u001b[0m \u001b[0mevaluate_candidates\u001b[0m\u001b[0;34m)\u001b[0m\u001b[0;34m:\u001b[0m\u001b[0;34m\u001b[0m\u001b[0;34m\u001b[0m\u001b[0m\n\u001b[1;32m   1295\u001b[0m         \u001b[0;34m\"\"\"Search all candidates in param_grid\"\"\"\u001b[0m\u001b[0;34m\u001b[0m\u001b[0;34m\u001b[0m\u001b[0m\n\u001b[0;32m-> 1296\u001b[0;31m         \u001b[0mevaluate_candidates\u001b[0m\u001b[0;34m(\u001b[0m\u001b[0mParameterGrid\u001b[0m\u001b[0;34m(\u001b[0m\u001b[0mself\u001b[0m\u001b[0;34m.\u001b[0m\u001b[0mparam_grid\u001b[0m\u001b[0;34m)\u001b[0m\u001b[0;34m)\u001b[0m\u001b[0;34m\u001b[0m\u001b[0;34m\u001b[0m\u001b[0m\n\u001b[0m\u001b[1;32m   1297\u001b[0m \u001b[0;34m\u001b[0m\u001b[0m\n\u001b[1;32m   1298\u001b[0m \u001b[0;34m\u001b[0m\u001b[0m\n",
      "\u001b[0;32m~/miniforge3/envs/my-env/lib/python3.9/site-packages/sklearn/model_selection/_search.py\u001b[0m in \u001b[0;36mevaluate_candidates\u001b[0;34m(candidate_params, cv, more_results)\u001b[0m\n\u001b[1;32m    793\u001b[0m                               n_splits, n_candidates, n_candidates * n_splits))\n\u001b[1;32m    794\u001b[0m \u001b[0;34m\u001b[0m\u001b[0m\n\u001b[0;32m--> 795\u001b[0;31m                 out = parallel(delayed(_fit_and_score)(clone(base_estimator),\n\u001b[0m\u001b[1;32m    796\u001b[0m                                                        \u001b[0mX\u001b[0m\u001b[0;34m,\u001b[0m \u001b[0my\u001b[0m\u001b[0;34m,\u001b[0m\u001b[0;34m\u001b[0m\u001b[0;34m\u001b[0m\u001b[0m\n\u001b[1;32m    797\u001b[0m                                                        \u001b[0mtrain\u001b[0m\u001b[0;34m=\u001b[0m\u001b[0mtrain\u001b[0m\u001b[0;34m,\u001b[0m \u001b[0mtest\u001b[0m\u001b[0;34m=\u001b[0m\u001b[0mtest\u001b[0m\u001b[0;34m,\u001b[0m\u001b[0;34m\u001b[0m\u001b[0;34m\u001b[0m\u001b[0m\n",
      "\u001b[0;32m~/miniforge3/envs/my-env/lib/python3.9/site-packages/joblib/parallel.py\u001b[0m in \u001b[0;36m__call__\u001b[0;34m(self, iterable)\u001b[0m\n\u001b[1;32m   1042\u001b[0m                 \u001b[0mself\u001b[0m\u001b[0;34m.\u001b[0m\u001b[0m_iterating\u001b[0m \u001b[0;34m=\u001b[0m \u001b[0mself\u001b[0m\u001b[0;34m.\u001b[0m\u001b[0m_original_iterator\u001b[0m \u001b[0;32mis\u001b[0m \u001b[0;32mnot\u001b[0m \u001b[0;32mNone\u001b[0m\u001b[0;34m\u001b[0m\u001b[0;34m\u001b[0m\u001b[0m\n\u001b[1;32m   1043\u001b[0m \u001b[0;34m\u001b[0m\u001b[0m\n\u001b[0;32m-> 1044\u001b[0;31m             \u001b[0;32mwhile\u001b[0m \u001b[0mself\u001b[0m\u001b[0;34m.\u001b[0m\u001b[0mdispatch_one_batch\u001b[0m\u001b[0;34m(\u001b[0m\u001b[0miterator\u001b[0m\u001b[0;34m)\u001b[0m\u001b[0;34m:\u001b[0m\u001b[0;34m\u001b[0m\u001b[0;34m\u001b[0m\u001b[0m\n\u001b[0m\u001b[1;32m   1045\u001b[0m                 \u001b[0;32mpass\u001b[0m\u001b[0;34m\u001b[0m\u001b[0;34m\u001b[0m\u001b[0m\n\u001b[1;32m   1046\u001b[0m \u001b[0;34m\u001b[0m\u001b[0m\n",
      "\u001b[0;32m~/miniforge3/envs/my-env/lib/python3.9/site-packages/joblib/parallel.py\u001b[0m in \u001b[0;36mdispatch_one_batch\u001b[0;34m(self, iterator)\u001b[0m\n\u001b[1;32m    857\u001b[0m                 \u001b[0;32mreturn\u001b[0m \u001b[0;32mFalse\u001b[0m\u001b[0;34m\u001b[0m\u001b[0;34m\u001b[0m\u001b[0m\n\u001b[1;32m    858\u001b[0m             \u001b[0;32melse\u001b[0m\u001b[0;34m:\u001b[0m\u001b[0;34m\u001b[0m\u001b[0;34m\u001b[0m\u001b[0m\n\u001b[0;32m--> 859\u001b[0;31m                 \u001b[0mself\u001b[0m\u001b[0;34m.\u001b[0m\u001b[0m_dispatch\u001b[0m\u001b[0;34m(\u001b[0m\u001b[0mtasks\u001b[0m\u001b[0;34m)\u001b[0m\u001b[0;34m\u001b[0m\u001b[0;34m\u001b[0m\u001b[0m\n\u001b[0m\u001b[1;32m    860\u001b[0m                 \u001b[0;32mreturn\u001b[0m \u001b[0;32mTrue\u001b[0m\u001b[0;34m\u001b[0m\u001b[0;34m\u001b[0m\u001b[0m\n\u001b[1;32m    861\u001b[0m \u001b[0;34m\u001b[0m\u001b[0m\n",
      "\u001b[0;32m~/miniforge3/envs/my-env/lib/python3.9/site-packages/joblib/parallel.py\u001b[0m in \u001b[0;36m_dispatch\u001b[0;34m(self, batch)\u001b[0m\n\u001b[1;32m    775\u001b[0m         \u001b[0;32mwith\u001b[0m \u001b[0mself\u001b[0m\u001b[0;34m.\u001b[0m\u001b[0m_lock\u001b[0m\u001b[0;34m:\u001b[0m\u001b[0;34m\u001b[0m\u001b[0;34m\u001b[0m\u001b[0m\n\u001b[1;32m    776\u001b[0m             \u001b[0mjob_idx\u001b[0m \u001b[0;34m=\u001b[0m \u001b[0mlen\u001b[0m\u001b[0;34m(\u001b[0m\u001b[0mself\u001b[0m\u001b[0;34m.\u001b[0m\u001b[0m_jobs\u001b[0m\u001b[0;34m)\u001b[0m\u001b[0;34m\u001b[0m\u001b[0;34m\u001b[0m\u001b[0m\n\u001b[0;32m--> 777\u001b[0;31m             \u001b[0mjob\u001b[0m \u001b[0;34m=\u001b[0m \u001b[0mself\u001b[0m\u001b[0;34m.\u001b[0m\u001b[0m_backend\u001b[0m\u001b[0;34m.\u001b[0m\u001b[0mapply_async\u001b[0m\u001b[0;34m(\u001b[0m\u001b[0mbatch\u001b[0m\u001b[0;34m,\u001b[0m \u001b[0mcallback\u001b[0m\u001b[0;34m=\u001b[0m\u001b[0mcb\u001b[0m\u001b[0;34m)\u001b[0m\u001b[0;34m\u001b[0m\u001b[0;34m\u001b[0m\u001b[0m\n\u001b[0m\u001b[1;32m    778\u001b[0m             \u001b[0;31m# A job can complete so quickly than its callback is\u001b[0m\u001b[0;34m\u001b[0m\u001b[0;34m\u001b[0m\u001b[0;34m\u001b[0m\u001b[0m\n\u001b[1;32m    779\u001b[0m             \u001b[0;31m# called before we get here, causing self._jobs to\u001b[0m\u001b[0;34m\u001b[0m\u001b[0;34m\u001b[0m\u001b[0;34m\u001b[0m\u001b[0m\n",
      "\u001b[0;32m~/miniforge3/envs/my-env/lib/python3.9/site-packages/joblib/_parallel_backends.py\u001b[0m in \u001b[0;36mapply_async\u001b[0;34m(self, func, callback)\u001b[0m\n\u001b[1;32m    206\u001b[0m     \u001b[0;32mdef\u001b[0m \u001b[0mapply_async\u001b[0m\u001b[0;34m(\u001b[0m\u001b[0mself\u001b[0m\u001b[0;34m,\u001b[0m \u001b[0mfunc\u001b[0m\u001b[0;34m,\u001b[0m \u001b[0mcallback\u001b[0m\u001b[0;34m=\u001b[0m\u001b[0;32mNone\u001b[0m\u001b[0;34m)\u001b[0m\u001b[0;34m:\u001b[0m\u001b[0;34m\u001b[0m\u001b[0;34m\u001b[0m\u001b[0m\n\u001b[1;32m    207\u001b[0m         \u001b[0;34m\"\"\"Schedule a func to be run\"\"\"\u001b[0m\u001b[0;34m\u001b[0m\u001b[0;34m\u001b[0m\u001b[0m\n\u001b[0;32m--> 208\u001b[0;31m         \u001b[0mresult\u001b[0m \u001b[0;34m=\u001b[0m \u001b[0mImmediateResult\u001b[0m\u001b[0;34m(\u001b[0m\u001b[0mfunc\u001b[0m\u001b[0;34m)\u001b[0m\u001b[0;34m\u001b[0m\u001b[0;34m\u001b[0m\u001b[0m\n\u001b[0m\u001b[1;32m    209\u001b[0m         \u001b[0;32mif\u001b[0m \u001b[0mcallback\u001b[0m\u001b[0;34m:\u001b[0m\u001b[0;34m\u001b[0m\u001b[0;34m\u001b[0m\u001b[0m\n\u001b[1;32m    210\u001b[0m             \u001b[0mcallback\u001b[0m\u001b[0;34m(\u001b[0m\u001b[0mresult\u001b[0m\u001b[0;34m)\u001b[0m\u001b[0;34m\u001b[0m\u001b[0;34m\u001b[0m\u001b[0m\n",
      "\u001b[0;32m~/miniforge3/envs/my-env/lib/python3.9/site-packages/joblib/_parallel_backends.py\u001b[0m in \u001b[0;36m__init__\u001b[0;34m(self, batch)\u001b[0m\n\u001b[1;32m    570\u001b[0m         \u001b[0;31m# Don't delay the application, to avoid keeping the input\u001b[0m\u001b[0;34m\u001b[0m\u001b[0;34m\u001b[0m\u001b[0;34m\u001b[0m\u001b[0m\n\u001b[1;32m    571\u001b[0m         \u001b[0;31m# arguments in memory\u001b[0m\u001b[0;34m\u001b[0m\u001b[0;34m\u001b[0m\u001b[0;34m\u001b[0m\u001b[0m\n\u001b[0;32m--> 572\u001b[0;31m         \u001b[0mself\u001b[0m\u001b[0;34m.\u001b[0m\u001b[0mresults\u001b[0m \u001b[0;34m=\u001b[0m \u001b[0mbatch\u001b[0m\u001b[0;34m(\u001b[0m\u001b[0;34m)\u001b[0m\u001b[0;34m\u001b[0m\u001b[0;34m\u001b[0m\u001b[0m\n\u001b[0m\u001b[1;32m    573\u001b[0m \u001b[0;34m\u001b[0m\u001b[0m\n\u001b[1;32m    574\u001b[0m     \u001b[0;32mdef\u001b[0m \u001b[0mget\u001b[0m\u001b[0;34m(\u001b[0m\u001b[0mself\u001b[0m\u001b[0;34m)\u001b[0m\u001b[0;34m:\u001b[0m\u001b[0;34m\u001b[0m\u001b[0;34m\u001b[0m\u001b[0m\n",
      "\u001b[0;32m~/miniforge3/envs/my-env/lib/python3.9/site-packages/joblib/parallel.py\u001b[0m in \u001b[0;36m__call__\u001b[0;34m(self)\u001b[0m\n\u001b[1;32m    260\u001b[0m         \u001b[0;31m# change the default number of processes to -1\u001b[0m\u001b[0;34m\u001b[0m\u001b[0;34m\u001b[0m\u001b[0;34m\u001b[0m\u001b[0m\n\u001b[1;32m    261\u001b[0m         \u001b[0;32mwith\u001b[0m \u001b[0mparallel_backend\u001b[0m\u001b[0;34m(\u001b[0m\u001b[0mself\u001b[0m\u001b[0;34m.\u001b[0m\u001b[0m_backend\u001b[0m\u001b[0;34m,\u001b[0m \u001b[0mn_jobs\u001b[0m\u001b[0;34m=\u001b[0m\u001b[0mself\u001b[0m\u001b[0;34m.\u001b[0m\u001b[0m_n_jobs\u001b[0m\u001b[0;34m)\u001b[0m\u001b[0;34m:\u001b[0m\u001b[0;34m\u001b[0m\u001b[0;34m\u001b[0m\u001b[0m\n\u001b[0;32m--> 262\u001b[0;31m             return [func(*args, **kwargs)\n\u001b[0m\u001b[1;32m    263\u001b[0m                     for func, args, kwargs in self.items]\n\u001b[1;32m    264\u001b[0m \u001b[0;34m\u001b[0m\u001b[0m\n",
      "\u001b[0;32m~/miniforge3/envs/my-env/lib/python3.9/site-packages/joblib/parallel.py\u001b[0m in \u001b[0;36m<listcomp>\u001b[0;34m(.0)\u001b[0m\n\u001b[1;32m    260\u001b[0m         \u001b[0;31m# change the default number of processes to -1\u001b[0m\u001b[0;34m\u001b[0m\u001b[0;34m\u001b[0m\u001b[0;34m\u001b[0m\u001b[0m\n\u001b[1;32m    261\u001b[0m         \u001b[0;32mwith\u001b[0m \u001b[0mparallel_backend\u001b[0m\u001b[0;34m(\u001b[0m\u001b[0mself\u001b[0m\u001b[0;34m.\u001b[0m\u001b[0m_backend\u001b[0m\u001b[0;34m,\u001b[0m \u001b[0mn_jobs\u001b[0m\u001b[0;34m=\u001b[0m\u001b[0mself\u001b[0m\u001b[0;34m.\u001b[0m\u001b[0m_n_jobs\u001b[0m\u001b[0;34m)\u001b[0m\u001b[0;34m:\u001b[0m\u001b[0;34m\u001b[0m\u001b[0;34m\u001b[0m\u001b[0m\n\u001b[0;32m--> 262\u001b[0;31m             return [func(*args, **kwargs)\n\u001b[0m\u001b[1;32m    263\u001b[0m                     for func, args, kwargs in self.items]\n\u001b[1;32m    264\u001b[0m \u001b[0;34m\u001b[0m\u001b[0m\n",
      "\u001b[0;32m~/miniforge3/envs/my-env/lib/python3.9/site-packages/sklearn/utils/fixes.py\u001b[0m in \u001b[0;36m__call__\u001b[0;34m(self, *args, **kwargs)\u001b[0m\n\u001b[1;32m    220\u001b[0m     \u001b[0;32mdef\u001b[0m \u001b[0m__call__\u001b[0m\u001b[0;34m(\u001b[0m\u001b[0mself\u001b[0m\u001b[0;34m,\u001b[0m \u001b[0;34m*\u001b[0m\u001b[0margs\u001b[0m\u001b[0;34m,\u001b[0m \u001b[0;34m**\u001b[0m\u001b[0mkwargs\u001b[0m\u001b[0;34m)\u001b[0m\u001b[0;34m:\u001b[0m\u001b[0;34m\u001b[0m\u001b[0;34m\u001b[0m\u001b[0m\n\u001b[1;32m    221\u001b[0m         \u001b[0;32mwith\u001b[0m \u001b[0mconfig_context\u001b[0m\u001b[0;34m(\u001b[0m\u001b[0;34m**\u001b[0m\u001b[0mself\u001b[0m\u001b[0;34m.\u001b[0m\u001b[0mconfig\u001b[0m\u001b[0;34m)\u001b[0m\u001b[0;34m:\u001b[0m\u001b[0;34m\u001b[0m\u001b[0;34m\u001b[0m\u001b[0m\n\u001b[0;32m--> 222\u001b[0;31m             \u001b[0;32mreturn\u001b[0m \u001b[0mself\u001b[0m\u001b[0;34m.\u001b[0m\u001b[0mfunction\u001b[0m\u001b[0;34m(\u001b[0m\u001b[0;34m*\u001b[0m\u001b[0margs\u001b[0m\u001b[0;34m,\u001b[0m \u001b[0;34m**\u001b[0m\u001b[0mkwargs\u001b[0m\u001b[0;34m)\u001b[0m\u001b[0;34m\u001b[0m\u001b[0;34m\u001b[0m\u001b[0m\n\u001b[0m",
      "\u001b[0;32m~/miniforge3/envs/my-env/lib/python3.9/site-packages/sklearn/model_selection/_validation.py\u001b[0m in \u001b[0;36m_fit_and_score\u001b[0;34m(estimator, X, y, scorer, train, test, verbose, parameters, fit_params, return_train_score, return_parameters, return_n_test_samples, return_times, return_estimator, split_progress, candidate_progress, error_score)\u001b[0m\n\u001b[1;32m    596\u001b[0m             \u001b[0mestimator\u001b[0m\u001b[0;34m.\u001b[0m\u001b[0mfit\u001b[0m\u001b[0;34m(\u001b[0m\u001b[0mX_train\u001b[0m\u001b[0;34m,\u001b[0m \u001b[0;34m**\u001b[0m\u001b[0mfit_params\u001b[0m\u001b[0;34m)\u001b[0m\u001b[0;34m\u001b[0m\u001b[0;34m\u001b[0m\u001b[0m\n\u001b[1;32m    597\u001b[0m         \u001b[0;32melse\u001b[0m\u001b[0;34m:\u001b[0m\u001b[0;34m\u001b[0m\u001b[0;34m\u001b[0m\u001b[0m\n\u001b[0;32m--> 598\u001b[0;31m             \u001b[0mestimator\u001b[0m\u001b[0;34m.\u001b[0m\u001b[0mfit\u001b[0m\u001b[0;34m(\u001b[0m\u001b[0mX_train\u001b[0m\u001b[0;34m,\u001b[0m \u001b[0my_train\u001b[0m\u001b[0;34m,\u001b[0m \u001b[0;34m**\u001b[0m\u001b[0mfit_params\u001b[0m\u001b[0;34m)\u001b[0m\u001b[0;34m\u001b[0m\u001b[0;34m\u001b[0m\u001b[0m\n\u001b[0m\u001b[1;32m    599\u001b[0m \u001b[0;34m\u001b[0m\u001b[0m\n\u001b[1;32m    600\u001b[0m     \u001b[0;32mexcept\u001b[0m \u001b[0mException\u001b[0m \u001b[0;32mas\u001b[0m \u001b[0me\u001b[0m\u001b[0;34m:\u001b[0m\u001b[0;34m\u001b[0m\u001b[0;34m\u001b[0m\u001b[0m\n",
      "\u001b[0;32m~/miniforge3/envs/my-env/lib/python3.9/site-packages/sklearn/ensemble/_forest.py\u001b[0m in \u001b[0;36mfit\u001b[0;34m(self, X, y, sample_weight)\u001b[0m\n\u001b[1;32m    385\u001b[0m             \u001b[0;31m# parallel_backend contexts set at a higher level,\u001b[0m\u001b[0;34m\u001b[0m\u001b[0;34m\u001b[0m\u001b[0;34m\u001b[0m\u001b[0m\n\u001b[1;32m    386\u001b[0m             \u001b[0;31m# since correctness does not rely on using threads.\u001b[0m\u001b[0;34m\u001b[0m\u001b[0;34m\u001b[0m\u001b[0;34m\u001b[0m\u001b[0m\n\u001b[0;32m--> 387\u001b[0;31m             trees = Parallel(n_jobs=self.n_jobs, verbose=self.verbose,\n\u001b[0m\u001b[1;32m    388\u001b[0m                              \u001b[0;34m**\u001b[0m\u001b[0m_joblib_parallel_args\u001b[0m\u001b[0;34m(\u001b[0m\u001b[0mprefer\u001b[0m\u001b[0;34m=\u001b[0m\u001b[0;34m'threads'\u001b[0m\u001b[0;34m)\u001b[0m\u001b[0;34m)\u001b[0m\u001b[0;34m(\u001b[0m\u001b[0;34m\u001b[0m\u001b[0;34m\u001b[0m\u001b[0m\n\u001b[1;32m    389\u001b[0m                 delayed(_parallel_build_trees)(\n",
      "\u001b[0;32m~/miniforge3/envs/my-env/lib/python3.9/site-packages/joblib/parallel.py\u001b[0m in \u001b[0;36m__call__\u001b[0;34m(self, iterable)\u001b[0m\n\u001b[1;32m   1042\u001b[0m                 \u001b[0mself\u001b[0m\u001b[0;34m.\u001b[0m\u001b[0m_iterating\u001b[0m \u001b[0;34m=\u001b[0m \u001b[0mself\u001b[0m\u001b[0;34m.\u001b[0m\u001b[0m_original_iterator\u001b[0m \u001b[0;32mis\u001b[0m \u001b[0;32mnot\u001b[0m \u001b[0;32mNone\u001b[0m\u001b[0;34m\u001b[0m\u001b[0;34m\u001b[0m\u001b[0m\n\u001b[1;32m   1043\u001b[0m \u001b[0;34m\u001b[0m\u001b[0m\n\u001b[0;32m-> 1044\u001b[0;31m             \u001b[0;32mwhile\u001b[0m \u001b[0mself\u001b[0m\u001b[0;34m.\u001b[0m\u001b[0mdispatch_one_batch\u001b[0m\u001b[0;34m(\u001b[0m\u001b[0miterator\u001b[0m\u001b[0;34m)\u001b[0m\u001b[0;34m:\u001b[0m\u001b[0;34m\u001b[0m\u001b[0;34m\u001b[0m\u001b[0m\n\u001b[0m\u001b[1;32m   1045\u001b[0m                 \u001b[0;32mpass\u001b[0m\u001b[0;34m\u001b[0m\u001b[0;34m\u001b[0m\u001b[0m\n\u001b[1;32m   1046\u001b[0m \u001b[0;34m\u001b[0m\u001b[0m\n",
      "\u001b[0;32m~/miniforge3/envs/my-env/lib/python3.9/site-packages/joblib/parallel.py\u001b[0m in \u001b[0;36mdispatch_one_batch\u001b[0;34m(self, iterator)\u001b[0m\n\u001b[1;32m    857\u001b[0m                 \u001b[0;32mreturn\u001b[0m \u001b[0;32mFalse\u001b[0m\u001b[0;34m\u001b[0m\u001b[0;34m\u001b[0m\u001b[0m\n\u001b[1;32m    858\u001b[0m             \u001b[0;32melse\u001b[0m\u001b[0;34m:\u001b[0m\u001b[0;34m\u001b[0m\u001b[0;34m\u001b[0m\u001b[0m\n\u001b[0;32m--> 859\u001b[0;31m                 \u001b[0mself\u001b[0m\u001b[0;34m.\u001b[0m\u001b[0m_dispatch\u001b[0m\u001b[0;34m(\u001b[0m\u001b[0mtasks\u001b[0m\u001b[0;34m)\u001b[0m\u001b[0;34m\u001b[0m\u001b[0;34m\u001b[0m\u001b[0m\n\u001b[0m\u001b[1;32m    860\u001b[0m                 \u001b[0;32mreturn\u001b[0m \u001b[0;32mTrue\u001b[0m\u001b[0;34m\u001b[0m\u001b[0;34m\u001b[0m\u001b[0m\n\u001b[1;32m    861\u001b[0m \u001b[0;34m\u001b[0m\u001b[0m\n",
      "\u001b[0;32m~/miniforge3/envs/my-env/lib/python3.9/site-packages/joblib/parallel.py\u001b[0m in \u001b[0;36m_dispatch\u001b[0;34m(self, batch)\u001b[0m\n\u001b[1;32m    775\u001b[0m         \u001b[0;32mwith\u001b[0m \u001b[0mself\u001b[0m\u001b[0;34m.\u001b[0m\u001b[0m_lock\u001b[0m\u001b[0;34m:\u001b[0m\u001b[0;34m\u001b[0m\u001b[0;34m\u001b[0m\u001b[0m\n\u001b[1;32m    776\u001b[0m             \u001b[0mjob_idx\u001b[0m \u001b[0;34m=\u001b[0m \u001b[0mlen\u001b[0m\u001b[0;34m(\u001b[0m\u001b[0mself\u001b[0m\u001b[0;34m.\u001b[0m\u001b[0m_jobs\u001b[0m\u001b[0;34m)\u001b[0m\u001b[0;34m\u001b[0m\u001b[0;34m\u001b[0m\u001b[0m\n\u001b[0;32m--> 777\u001b[0;31m             \u001b[0mjob\u001b[0m \u001b[0;34m=\u001b[0m \u001b[0mself\u001b[0m\u001b[0;34m.\u001b[0m\u001b[0m_backend\u001b[0m\u001b[0;34m.\u001b[0m\u001b[0mapply_async\u001b[0m\u001b[0;34m(\u001b[0m\u001b[0mbatch\u001b[0m\u001b[0;34m,\u001b[0m \u001b[0mcallback\u001b[0m\u001b[0;34m=\u001b[0m\u001b[0mcb\u001b[0m\u001b[0;34m)\u001b[0m\u001b[0;34m\u001b[0m\u001b[0;34m\u001b[0m\u001b[0m\n\u001b[0m\u001b[1;32m    778\u001b[0m             \u001b[0;31m# A job can complete so quickly than its callback is\u001b[0m\u001b[0;34m\u001b[0m\u001b[0;34m\u001b[0m\u001b[0;34m\u001b[0m\u001b[0m\n\u001b[1;32m    779\u001b[0m             \u001b[0;31m# called before we get here, causing self._jobs to\u001b[0m\u001b[0;34m\u001b[0m\u001b[0;34m\u001b[0m\u001b[0;34m\u001b[0m\u001b[0m\n",
      "\u001b[0;32m~/miniforge3/envs/my-env/lib/python3.9/site-packages/joblib/_parallel_backends.py\u001b[0m in \u001b[0;36mapply_async\u001b[0;34m(self, func, callback)\u001b[0m\n\u001b[1;32m    206\u001b[0m     \u001b[0;32mdef\u001b[0m \u001b[0mapply_async\u001b[0m\u001b[0;34m(\u001b[0m\u001b[0mself\u001b[0m\u001b[0;34m,\u001b[0m \u001b[0mfunc\u001b[0m\u001b[0;34m,\u001b[0m \u001b[0mcallback\u001b[0m\u001b[0;34m=\u001b[0m\u001b[0;32mNone\u001b[0m\u001b[0;34m)\u001b[0m\u001b[0;34m:\u001b[0m\u001b[0;34m\u001b[0m\u001b[0;34m\u001b[0m\u001b[0m\n\u001b[1;32m    207\u001b[0m         \u001b[0;34m\"\"\"Schedule a func to be run\"\"\"\u001b[0m\u001b[0;34m\u001b[0m\u001b[0;34m\u001b[0m\u001b[0m\n\u001b[0;32m--> 208\u001b[0;31m         \u001b[0mresult\u001b[0m \u001b[0;34m=\u001b[0m \u001b[0mImmediateResult\u001b[0m\u001b[0;34m(\u001b[0m\u001b[0mfunc\u001b[0m\u001b[0;34m)\u001b[0m\u001b[0;34m\u001b[0m\u001b[0;34m\u001b[0m\u001b[0m\n\u001b[0m\u001b[1;32m    209\u001b[0m         \u001b[0;32mif\u001b[0m \u001b[0mcallback\u001b[0m\u001b[0;34m:\u001b[0m\u001b[0;34m\u001b[0m\u001b[0;34m\u001b[0m\u001b[0m\n\u001b[1;32m    210\u001b[0m             \u001b[0mcallback\u001b[0m\u001b[0;34m(\u001b[0m\u001b[0mresult\u001b[0m\u001b[0;34m)\u001b[0m\u001b[0;34m\u001b[0m\u001b[0;34m\u001b[0m\u001b[0m\n",
      "\u001b[0;32m~/miniforge3/envs/my-env/lib/python3.9/site-packages/joblib/_parallel_backends.py\u001b[0m in \u001b[0;36m__init__\u001b[0;34m(self, batch)\u001b[0m\n\u001b[1;32m    570\u001b[0m         \u001b[0;31m# Don't delay the application, to avoid keeping the input\u001b[0m\u001b[0;34m\u001b[0m\u001b[0;34m\u001b[0m\u001b[0;34m\u001b[0m\u001b[0m\n\u001b[1;32m    571\u001b[0m         \u001b[0;31m# arguments in memory\u001b[0m\u001b[0;34m\u001b[0m\u001b[0;34m\u001b[0m\u001b[0;34m\u001b[0m\u001b[0m\n\u001b[0;32m--> 572\u001b[0;31m         \u001b[0mself\u001b[0m\u001b[0;34m.\u001b[0m\u001b[0mresults\u001b[0m \u001b[0;34m=\u001b[0m \u001b[0mbatch\u001b[0m\u001b[0;34m(\u001b[0m\u001b[0;34m)\u001b[0m\u001b[0;34m\u001b[0m\u001b[0;34m\u001b[0m\u001b[0m\n\u001b[0m\u001b[1;32m    573\u001b[0m \u001b[0;34m\u001b[0m\u001b[0m\n\u001b[1;32m    574\u001b[0m     \u001b[0;32mdef\u001b[0m \u001b[0mget\u001b[0m\u001b[0;34m(\u001b[0m\u001b[0mself\u001b[0m\u001b[0;34m)\u001b[0m\u001b[0;34m:\u001b[0m\u001b[0;34m\u001b[0m\u001b[0;34m\u001b[0m\u001b[0m\n",
      "\u001b[0;32m~/miniforge3/envs/my-env/lib/python3.9/site-packages/joblib/parallel.py\u001b[0m in \u001b[0;36m__call__\u001b[0;34m(self)\u001b[0m\n\u001b[1;32m    260\u001b[0m         \u001b[0;31m# change the default number of processes to -1\u001b[0m\u001b[0;34m\u001b[0m\u001b[0;34m\u001b[0m\u001b[0;34m\u001b[0m\u001b[0m\n\u001b[1;32m    261\u001b[0m         \u001b[0;32mwith\u001b[0m \u001b[0mparallel_backend\u001b[0m\u001b[0;34m(\u001b[0m\u001b[0mself\u001b[0m\u001b[0;34m.\u001b[0m\u001b[0m_backend\u001b[0m\u001b[0;34m,\u001b[0m \u001b[0mn_jobs\u001b[0m\u001b[0;34m=\u001b[0m\u001b[0mself\u001b[0m\u001b[0;34m.\u001b[0m\u001b[0m_n_jobs\u001b[0m\u001b[0;34m)\u001b[0m\u001b[0;34m:\u001b[0m\u001b[0;34m\u001b[0m\u001b[0;34m\u001b[0m\u001b[0m\n\u001b[0;32m--> 262\u001b[0;31m             return [func(*args, **kwargs)\n\u001b[0m\u001b[1;32m    263\u001b[0m                     for func, args, kwargs in self.items]\n\u001b[1;32m    264\u001b[0m \u001b[0;34m\u001b[0m\u001b[0m\n",
      "\u001b[0;32m~/miniforge3/envs/my-env/lib/python3.9/site-packages/joblib/parallel.py\u001b[0m in \u001b[0;36m<listcomp>\u001b[0;34m(.0)\u001b[0m\n\u001b[1;32m    260\u001b[0m         \u001b[0;31m# change the default number of processes to -1\u001b[0m\u001b[0;34m\u001b[0m\u001b[0;34m\u001b[0m\u001b[0;34m\u001b[0m\u001b[0m\n\u001b[1;32m    261\u001b[0m         \u001b[0;32mwith\u001b[0m \u001b[0mparallel_backend\u001b[0m\u001b[0;34m(\u001b[0m\u001b[0mself\u001b[0m\u001b[0;34m.\u001b[0m\u001b[0m_backend\u001b[0m\u001b[0;34m,\u001b[0m \u001b[0mn_jobs\u001b[0m\u001b[0;34m=\u001b[0m\u001b[0mself\u001b[0m\u001b[0;34m.\u001b[0m\u001b[0m_n_jobs\u001b[0m\u001b[0;34m)\u001b[0m\u001b[0;34m:\u001b[0m\u001b[0;34m\u001b[0m\u001b[0;34m\u001b[0m\u001b[0m\n\u001b[0;32m--> 262\u001b[0;31m             return [func(*args, **kwargs)\n\u001b[0m\u001b[1;32m    263\u001b[0m                     for func, args, kwargs in self.items]\n\u001b[1;32m    264\u001b[0m \u001b[0;34m\u001b[0m\u001b[0m\n",
      "\u001b[0;32m~/miniforge3/envs/my-env/lib/python3.9/site-packages/sklearn/utils/fixes.py\u001b[0m in \u001b[0;36m__call__\u001b[0;34m(self, *args, **kwargs)\u001b[0m\n\u001b[1;32m    220\u001b[0m     \u001b[0;32mdef\u001b[0m \u001b[0m__call__\u001b[0m\u001b[0;34m(\u001b[0m\u001b[0mself\u001b[0m\u001b[0;34m,\u001b[0m \u001b[0;34m*\u001b[0m\u001b[0margs\u001b[0m\u001b[0;34m,\u001b[0m \u001b[0;34m**\u001b[0m\u001b[0mkwargs\u001b[0m\u001b[0;34m)\u001b[0m\u001b[0;34m:\u001b[0m\u001b[0;34m\u001b[0m\u001b[0;34m\u001b[0m\u001b[0m\n\u001b[1;32m    221\u001b[0m         \u001b[0;32mwith\u001b[0m \u001b[0mconfig_context\u001b[0m\u001b[0;34m(\u001b[0m\u001b[0;34m**\u001b[0m\u001b[0mself\u001b[0m\u001b[0;34m.\u001b[0m\u001b[0mconfig\u001b[0m\u001b[0;34m)\u001b[0m\u001b[0;34m:\u001b[0m\u001b[0;34m\u001b[0m\u001b[0;34m\u001b[0m\u001b[0m\n\u001b[0;32m--> 222\u001b[0;31m             \u001b[0;32mreturn\u001b[0m \u001b[0mself\u001b[0m\u001b[0;34m.\u001b[0m\u001b[0mfunction\u001b[0m\u001b[0;34m(\u001b[0m\u001b[0;34m*\u001b[0m\u001b[0margs\u001b[0m\u001b[0;34m,\u001b[0m \u001b[0;34m**\u001b[0m\u001b[0mkwargs\u001b[0m\u001b[0;34m)\u001b[0m\u001b[0;34m\u001b[0m\u001b[0;34m\u001b[0m\u001b[0m\n\u001b[0m",
      "\u001b[0;32m~/miniforge3/envs/my-env/lib/python3.9/site-packages/sklearn/ensemble/_forest.py\u001b[0m in \u001b[0;36m_parallel_build_trees\u001b[0;34m(tree, forest, X, y, sample_weight, tree_idx, n_trees, verbose, class_weight, n_samples_bootstrap)\u001b[0m\n\u001b[1;32m    153\u001b[0m             \u001b[0mcurr_sample_weight\u001b[0m \u001b[0;34m=\u001b[0m \u001b[0msample_weight\u001b[0m\u001b[0;34m.\u001b[0m\u001b[0mcopy\u001b[0m\u001b[0;34m(\u001b[0m\u001b[0;34m)\u001b[0m\u001b[0;34m\u001b[0m\u001b[0;34m\u001b[0m\u001b[0m\n\u001b[1;32m    154\u001b[0m \u001b[0;34m\u001b[0m\u001b[0m\n\u001b[0;32m--> 155\u001b[0;31m         indices = _generate_sample_indices(tree.random_state, n_samples,\n\u001b[0m\u001b[1;32m    156\u001b[0m                                            n_samples_bootstrap)\n\u001b[1;32m    157\u001b[0m         \u001b[0msample_counts\u001b[0m \u001b[0;34m=\u001b[0m \u001b[0mnp\u001b[0m\u001b[0;34m.\u001b[0m\u001b[0mbincount\u001b[0m\u001b[0;34m(\u001b[0m\u001b[0mindices\u001b[0m\u001b[0;34m,\u001b[0m \u001b[0mminlength\u001b[0m\u001b[0;34m=\u001b[0m\u001b[0mn_samples\u001b[0m\u001b[0;34m)\u001b[0m\u001b[0;34m\u001b[0m\u001b[0;34m\u001b[0m\u001b[0m\n",
      "\u001b[0;32m~/miniforge3/envs/my-env/lib/python3.9/site-packages/sklearn/ensemble/_forest.py\u001b[0m in \u001b[0;36m_generate_sample_indices\u001b[0;34m(random_state, n_samples, n_samples_bootstrap)\u001b[0m\n\u001b[1;32m    119\u001b[0m     Private function used to _parallel_build_trees function.\"\"\"\n\u001b[1;32m    120\u001b[0m \u001b[0;34m\u001b[0m\u001b[0m\n\u001b[0;32m--> 121\u001b[0;31m     \u001b[0mrandom_instance\u001b[0m \u001b[0;34m=\u001b[0m \u001b[0mcheck_random_state\u001b[0m\u001b[0;34m(\u001b[0m\u001b[0mrandom_state\u001b[0m\u001b[0;34m)\u001b[0m\u001b[0;34m\u001b[0m\u001b[0;34m\u001b[0m\u001b[0m\n\u001b[0m\u001b[1;32m    122\u001b[0m     \u001b[0msample_indices\u001b[0m \u001b[0;34m=\u001b[0m \u001b[0mrandom_instance\u001b[0m\u001b[0;34m.\u001b[0m\u001b[0mrandint\u001b[0m\u001b[0;34m(\u001b[0m\u001b[0;36m0\u001b[0m\u001b[0;34m,\u001b[0m \u001b[0mn_samples\u001b[0m\u001b[0;34m,\u001b[0m \u001b[0mn_samples_bootstrap\u001b[0m\u001b[0;34m)\u001b[0m\u001b[0;34m\u001b[0m\u001b[0;34m\u001b[0m\u001b[0m\n\u001b[1;32m    123\u001b[0m \u001b[0;34m\u001b[0m\u001b[0m\n",
      "\u001b[0;32m~/miniforge3/envs/my-env/lib/python3.9/site-packages/sklearn/utils/validation.py\u001b[0m in \u001b[0;36mcheck_random_state\u001b[0;34m(seed)\u001b[0m\n\u001b[1;32m    938\u001b[0m         \u001b[0;32mreturn\u001b[0m \u001b[0mnp\u001b[0m\u001b[0;34m.\u001b[0m\u001b[0mrandom\u001b[0m\u001b[0;34m.\u001b[0m\u001b[0mmtrand\u001b[0m\u001b[0;34m.\u001b[0m\u001b[0m_rand\u001b[0m\u001b[0;34m\u001b[0m\u001b[0;34m\u001b[0m\u001b[0m\n\u001b[1;32m    939\u001b[0m     \u001b[0;32mif\u001b[0m \u001b[0misinstance\u001b[0m\u001b[0;34m(\u001b[0m\u001b[0mseed\u001b[0m\u001b[0;34m,\u001b[0m \u001b[0mnumbers\u001b[0m\u001b[0;34m.\u001b[0m\u001b[0mIntegral\u001b[0m\u001b[0;34m)\u001b[0m\u001b[0;34m:\u001b[0m\u001b[0;34m\u001b[0m\u001b[0;34m\u001b[0m\u001b[0m\n\u001b[0;32m--> 940\u001b[0;31m         \u001b[0;32mreturn\u001b[0m \u001b[0mnp\u001b[0m\u001b[0;34m.\u001b[0m\u001b[0mrandom\u001b[0m\u001b[0;34m.\u001b[0m\u001b[0mRandomState\u001b[0m\u001b[0;34m(\u001b[0m\u001b[0mseed\u001b[0m\u001b[0;34m)\u001b[0m\u001b[0;34m\u001b[0m\u001b[0;34m\u001b[0m\u001b[0m\n\u001b[0m\u001b[1;32m    941\u001b[0m     \u001b[0;32mif\u001b[0m \u001b[0misinstance\u001b[0m\u001b[0;34m(\u001b[0m\u001b[0mseed\u001b[0m\u001b[0;34m,\u001b[0m \u001b[0mnp\u001b[0m\u001b[0;34m.\u001b[0m\u001b[0mrandom\u001b[0m\u001b[0;34m.\u001b[0m\u001b[0mRandomState\u001b[0m\u001b[0;34m)\u001b[0m\u001b[0;34m:\u001b[0m\u001b[0;34m\u001b[0m\u001b[0;34m\u001b[0m\u001b[0m\n\u001b[1;32m    942\u001b[0m         \u001b[0;32mreturn\u001b[0m \u001b[0mseed\u001b[0m\u001b[0;34m\u001b[0m\u001b[0;34m\u001b[0m\u001b[0m\n",
      "\u001b[0;31mKeyboardInterrupt\u001b[0m: "
     ]
    }
   ],
   "source": [
    "from sklearn.model_selection import GridSearchCV\n",
    "rfr_grid = GridSearchCV(clf,cv=5,param_grid = {'n_estimators':[10,25,50,100,],\n",
    "              'min_samples_split':[0.5,2,4,10],\n",
    "              'min_samples_leaf':[1,2,4,10],\n",
    "              'max_features':[2,4,8],\n",
    "              'bootstrap':[True, False]\n",
    "              })\n",
    " \n",
    "rfr_grid = rfr_grid.fit(x_train, y_train)\n",
    "rfr_grid_best = rfr_grid.best_estimator_\n"
   ]
  },
  {
   "cell_type": "code",
   "execution_count": 14,
   "id": "d38e78a5",
   "metadata": {},
   "outputs": [
    {
     "name": "stdout",
     "output_type": "stream",
     "text": [
      "best params =  {'bootstrap': False, 'max_features': 8, 'min_samples_leaf': 2, 'min_samples_split': 2, 'n_estimators': 100}\n"
     ]
    }
   ],
   "source": [
    "print(\"best params = \",rfr_grid.best_params_)"
   ]
  },
  {
   "cell_type": "code",
   "execution_count": 32,
   "id": "424dbc7b",
   "metadata": {},
   "outputs": [
    {
     "data": {
      "text/plain": [
       "RandomForestRegressor(max_features=2, random_state=1234)"
      ]
     },
     "execution_count": 32,
     "metadata": {},
     "output_type": "execute_result"
    }
   ],
   "source": [
    "clf_best = RFR(n_estimators=100,\n",
    "                max_features = 2,\n",
    "                min_samples_split = 2,\n",
    "                min_samples_leaf = 1,\n",
    "                bootstrap = True,\n",
    "                random_state = 1234)\n",
    "clf_best.fit(x_train,y_train)\n",
    " "
   ]
  },
  {
   "cell_type": "code",
   "execution_count": 33,
   "id": "c1a76c2a",
   "metadata": {},
   "outputs": [],
   "source": [
    "y_pred_cfr_best = clf_best.predict(x_test)"
   ]
  },
  {
   "cell_type": "code",
   "execution_count": 34,
   "id": "753e0348",
   "metadata": {},
   "outputs": [
    {
     "name": "stdout",
     "output_type": "stream",
     "text": [
      "score= 0.9434769527344137\n"
     ]
    }
   ],
   "source": [
    "print('score=',clf_best.score(x_test,y_test))"
   ]
  },
  {
   "cell_type": "code",
   "execution_count": null,
   "id": "1cf20746",
   "metadata": {},
   "outputs": [],
   "source": []
  },
  {
   "cell_type": "code",
   "execution_count": null,
   "id": "669c4835",
   "metadata": {},
   "outputs": [],
   "source": []
  },
  {
   "cell_type": "code",
   "execution_count": null,
   "id": "e129336b",
   "metadata": {},
   "outputs": [],
   "source": []
  },
  {
   "cell_type": "code",
   "execution_count": null,
   "id": "bef8dd25",
   "metadata": {},
   "outputs": [],
   "source": []
  },
  {
   "cell_type": "code",
   "execution_count": 51,
   "id": "10ceb5c8",
   "metadata": {},
   "outputs": [],
   "source": [
    "#lgb\n",
    "import lightgbm as lgb\n",
    "\n",
    "model = lgb.LGBMClassifier(bootstrap=True)"
   ]
  },
  {
   "cell_type": "code",
   "execution_count": 36,
   "id": "7e31c42f",
   "metadata": {},
   "outputs": [
    {
     "name": "stdout",
     "output_type": "stream",
     "text": [
      "[LightGBM] [Warning] Unknown parameter: bootstrap\n"
     ]
    },
    {
     "data": {
      "text/plain": [
       "LGBMClassifier(bootstrap=True)"
      ]
     },
     "execution_count": 36,
     "metadata": {},
     "output_type": "execute_result"
    }
   ],
   "source": [
    "model.fit(x_train,y_train)"
   ]
  },
  {
   "cell_type": "code",
   "execution_count": 37,
   "id": "630dc46b",
   "metadata": {},
   "outputs": [],
   "source": [
    "pred = model.predict(x_test)"
   ]
  },
  {
   "cell_type": "code",
   "execution_count": 38,
   "id": "15645a66",
   "metadata": {},
   "outputs": [
    {
     "name": "stdout",
     "output_type": "stream",
     "text": [
      "score= 0.89\n"
     ]
    }
   ],
   "source": [
    "print('score=',model.score(x_test,y_test))"
   ]
  },
  {
   "cell_type": "code",
   "execution_count": null,
   "id": "7e5e7f28",
   "metadata": {},
   "outputs": [],
   "source": []
  },
  {
   "cell_type": "code",
   "execution_count": null,
   "id": "1c589576",
   "metadata": {},
   "outputs": [],
   "source": []
  },
  {
   "cell_type": "code",
   "execution_count": null,
   "id": "2654e8d9",
   "metadata": {},
   "outputs": [],
   "source": []
  },
  {
   "cell_type": "code",
   "execution_count": 39,
   "id": "1b04d9f3",
   "metadata": {},
   "outputs": [],
   "source": [
    "# 目的関数の定義（最小値問題として定式化する。）\n",
    "from sklearn.ensemble import RandomForestClassifier\n",
    "from sklearn.metrics import accuracy_score\n",
    "def objective(trial):\n",
    "    min_samples_split = trial.suggest_int(\"min_samples_split\", 8, 16)\n",
    "    max_leaf_nodes = int(trial.suggest_discrete_uniform(\"max_leaf_nodes\", 4, 64, 4))\n",
    "    criterion = trial.suggest_categorical(\"criterion\", [\"gini\", \"entropy\"])\n",
    "    \n",
    "    RFC = RandomForestClassifier(min_samples_split = min_samples_split, \n",
    "                                max_leaf_nodes = max_leaf_nodes,\n",
    "                                criterion = criterion)\n",
    "    RFC.fit(x_train, y_train)\n",
    "    return 1.0 - accuracy_score(y_test, RFC.predict(x_test))"
   ]
  },
  {
   "cell_type": "code",
   "execution_count": null,
   "id": "1eccb8e9",
   "metadata": {},
   "outputs": [],
   "source": []
  },
  {
   "cell_type": "code",
   "execution_count": null,
   "id": "49077dac",
   "metadata": {},
   "outputs": [],
   "source": []
  },
  {
   "cell_type": "code",
   "execution_count": null,
   "id": "5fe699d8",
   "metadata": {},
   "outputs": [],
   "source": []
  },
  {
   "cell_type": "code",
   "execution_count": 40,
   "id": "98c8d38c",
   "metadata": {},
   "outputs": [
    {
     "name": "stderr",
     "output_type": "stream",
     "text": [
      "\u001b[32m[I 2021-06-08 16:23:07,740]\u001b[0m A new study created in memory with name: no-name-c6639161-b918-4de3-8f6a-fad974fd18c7\u001b[0m\n",
      "\u001b[32m[I 2021-06-08 16:23:07,894]\u001b[0m Trial 0 finished with value: 0.19999999999999996 and parameters: {'min_samples_split': 9, 'max_leaf_nodes': 8.0, 'criterion': 'entropy'}. Best is trial 0 with value: 0.19999999999999996.\u001b[0m\n",
      "\u001b[32m[I 2021-06-08 16:23:08,037]\u001b[0m Trial 1 finished with value: 0.10999999999999999 and parameters: {'min_samples_split': 15, 'max_leaf_nodes': 36.0, 'criterion': 'entropy'}. Best is trial 1 with value: 0.10999999999999999.\u001b[0m\n",
      "\u001b[32m[I 2021-06-08 16:23:08,184]\u001b[0m Trial 2 finished with value: 0.10666666666666669 and parameters: {'min_samples_split': 14, 'max_leaf_nodes': 64.0, 'criterion': 'entropy'}. Best is trial 2 with value: 0.10666666666666669.\u001b[0m\n",
      "\u001b[32m[I 2021-06-08 16:23:08,311]\u001b[0m Trial 3 finished with value: 0.09833333333333338 and parameters: {'min_samples_split': 15, 'max_leaf_nodes': 64.0, 'criterion': 'gini'}. Best is trial 3 with value: 0.09833333333333338.\u001b[0m\n",
      "\u001b[32m[I 2021-06-08 16:23:08,441]\u001b[0m Trial 4 finished with value: 0.10166666666666668 and parameters: {'min_samples_split': 12, 'max_leaf_nodes': 48.0, 'criterion': 'gini'}. Best is trial 3 with value: 0.09833333333333338.\u001b[0m\n",
      "\u001b[32m[I 2021-06-08 16:23:08,560]\u001b[0m Trial 5 finished with value: 0.1233333333333333 and parameters: {'min_samples_split': 14, 'max_leaf_nodes': 36.0, 'criterion': 'gini'}. Best is trial 3 with value: 0.09833333333333338.\u001b[0m\n",
      "\u001b[32m[I 2021-06-08 16:23:08,689]\u001b[0m Trial 6 finished with value: 0.1466666666666666 and parameters: {'min_samples_split': 15, 'max_leaf_nodes': 16.0, 'criterion': 'entropy'}. Best is trial 3 with value: 0.09833333333333338.\u001b[0m\n",
      "\u001b[32m[I 2021-06-08 16:23:08,833]\u001b[0m Trial 7 finished with value: 0.10499999999999998 and parameters: {'min_samples_split': 13, 'max_leaf_nodes': 64.0, 'criterion': 'entropy'}. Best is trial 3 with value: 0.09833333333333338.\u001b[0m\n",
      "\u001b[32m[I 2021-06-08 16:23:08,963]\u001b[0m Trial 8 finished with value: 0.10833333333333328 and parameters: {'min_samples_split': 9, 'max_leaf_nodes': 64.0, 'criterion': 'gini'}. Best is trial 3 with value: 0.09833333333333338.\u001b[0m\n",
      "\u001b[32m[I 2021-06-08 16:23:09,091]\u001b[0m Trial 9 finished with value: 0.11333333333333329 and parameters: {'min_samples_split': 16, 'max_leaf_nodes': 44.0, 'criterion': 'gini'}. Best is trial 3 with value: 0.09833333333333338.\u001b[0m\n",
      "\u001b[32m[I 2021-06-08 16:23:09,212]\u001b[0m Trial 10 finished with value: 0.1266666666666667 and parameters: {'min_samples_split': 10, 'max_leaf_nodes': 20.0, 'criterion': 'gini'}. Best is trial 3 with value: 0.09833333333333338.\u001b[0m\n",
      "\u001b[32m[I 2021-06-08 16:23:09,341]\u001b[0m Trial 11 finished with value: 0.1166666666666667 and parameters: {'min_samples_split': 11, 'max_leaf_nodes': 52.0, 'criterion': 'gini'}. Best is trial 3 with value: 0.09833333333333338.\u001b[0m\n",
      "\u001b[32m[I 2021-06-08 16:23:09,474]\u001b[0m Trial 12 finished with value: 0.11333333333333329 and parameters: {'min_samples_split': 12, 'max_leaf_nodes': 52.0, 'criterion': 'gini'}. Best is trial 3 with value: 0.09833333333333338.\u001b[0m\n",
      "\u001b[32m[I 2021-06-08 16:23:09,602]\u001b[0m Trial 13 finished with value: 0.11499999999999999 and parameters: {'min_samples_split': 12, 'max_leaf_nodes': 52.0, 'criterion': 'gini'}. Best is trial 3 with value: 0.09833333333333338.\u001b[0m\n",
      "\u001b[32m[I 2021-06-08 16:23:09,736]\u001b[0m Trial 14 finished with value: 0.10999999999999999 and parameters: {'min_samples_split': 16, 'max_leaf_nodes': 56.0, 'criterion': 'gini'}. Best is trial 3 with value: 0.09833333333333338.\u001b[0m\n",
      "\u001b[32m[I 2021-06-08 16:23:09,861]\u001b[0m Trial 15 finished with value: 0.12 and parameters: {'min_samples_split': 8, 'max_leaf_nodes': 44.0, 'criterion': 'gini'}. Best is trial 3 with value: 0.09833333333333338.\u001b[0m\n",
      "\u001b[32m[I 2021-06-08 16:23:09,984]\u001b[0m Trial 16 finished with value: 0.1216666666666667 and parameters: {'min_samples_split': 13, 'max_leaf_nodes': 28.0, 'criterion': 'gini'}. Best is trial 3 with value: 0.09833333333333338.\u001b[0m\n",
      "\u001b[32m[I 2021-06-08 16:23:10,109]\u001b[0m Trial 17 finished with value: 0.11499999999999999 and parameters: {'min_samples_split': 11, 'max_leaf_nodes': 44.0, 'criterion': 'gini'}. Best is trial 3 with value: 0.09833333333333338.\u001b[0m\n",
      "\u001b[32m[I 2021-06-08 16:23:10,244]\u001b[0m Trial 18 finished with value: 0.10666666666666669 and parameters: {'min_samples_split': 14, 'max_leaf_nodes': 60.0, 'criterion': 'gini'}. Best is trial 3 with value: 0.09833333333333338.\u001b[0m\n",
      "\u001b[32m[I 2021-06-08 16:23:10,370]\u001b[0m Trial 19 finished with value: 0.10166666666666668 and parameters: {'min_samples_split': 13, 'max_leaf_nodes': 48.0, 'criterion': 'gini'}. Best is trial 3 with value: 0.09833333333333338.\u001b[0m\n",
      "\u001b[32m[I 2021-06-08 16:23:10,492]\u001b[0m Trial 20 finished with value: 0.1216666666666667 and parameters: {'min_samples_split': 15, 'max_leaf_nodes': 28.0, 'criterion': 'gini'}. Best is trial 3 with value: 0.09833333333333338.\u001b[0m\n",
      "\u001b[32m[I 2021-06-08 16:23:10,615]\u001b[0m Trial 21 finished with value: 0.11333333333333329 and parameters: {'min_samples_split': 13, 'max_leaf_nodes': 44.0, 'criterion': 'gini'}. Best is trial 3 with value: 0.09833333333333338.\u001b[0m\n",
      "\u001b[32m[I 2021-06-08 16:23:10,748]\u001b[0m Trial 22 finished with value: 0.11333333333333329 and parameters: {'min_samples_split': 11, 'max_leaf_nodes': 56.0, 'criterion': 'gini'}. Best is trial 3 with value: 0.09833333333333338.\u001b[0m\n",
      "\u001b[32m[I 2021-06-08 16:23:10,874]\u001b[0m Trial 23 finished with value: 0.10999999999999999 and parameters: {'min_samples_split': 13, 'max_leaf_nodes': 48.0, 'criterion': 'gini'}. Best is trial 3 with value: 0.09833333333333338.\u001b[0m\n",
      "\u001b[32m[I 2021-06-08 16:23:11,003]\u001b[0m Trial 24 finished with value: 0.11333333333333329 and parameters: {'min_samples_split': 12, 'max_leaf_nodes': 40.0, 'criterion': 'gini'}. Best is trial 3 with value: 0.09833333333333338.\u001b[0m\n",
      "\u001b[32m[I 2021-06-08 16:23:11,140]\u001b[0m Trial 25 finished with value: 0.10166666666666668 and parameters: {'min_samples_split': 14, 'max_leaf_nodes': 60.0, 'criterion': 'gini'}. Best is trial 3 with value: 0.09833333333333338.\u001b[0m\n",
      "\u001b[32m[I 2021-06-08 16:23:11,270]\u001b[0m Trial 26 finished with value: 0.10833333333333328 and parameters: {'min_samples_split': 16, 'max_leaf_nodes': 60.0, 'criterion': 'gini'}. Best is trial 3 with value: 0.09833333333333338.\u001b[0m\n",
      "\u001b[32m[I 2021-06-08 16:23:11,399]\u001b[0m Trial 27 finished with value: 0.09999999999999998 and parameters: {'min_samples_split': 15, 'max_leaf_nodes': 60.0, 'criterion': 'gini'}. Best is trial 3 with value: 0.09833333333333338.\u001b[0m\n",
      "\u001b[32m[I 2021-06-08 16:23:11,531]\u001b[0m Trial 28 finished with value: 0.11166666666666669 and parameters: {'min_samples_split': 15, 'max_leaf_nodes': 56.0, 'criterion': 'gini'}. Best is trial 3 with value: 0.09833333333333338.\u001b[0m\n",
      "\u001b[32m[I 2021-06-08 16:23:11,632]\u001b[0m Trial 29 finished with value: 0.22999999999999998 and parameters: {'min_samples_split': 16, 'max_leaf_nodes': 4.0, 'criterion': 'entropy'}. Best is trial 3 with value: 0.09833333333333338.\u001b[0m\n",
      "\u001b[32m[I 2021-06-08 16:23:11,769]\u001b[0m Trial 30 finished with value: 0.10833333333333328 and parameters: {'min_samples_split': 14, 'max_leaf_nodes': 60.0, 'criterion': 'gini'}. Best is trial 3 with value: 0.09833333333333338.\u001b[0m\n",
      "\u001b[32m[I 2021-06-08 16:23:11,900]\u001b[0m Trial 31 finished with value: 0.10833333333333328 and parameters: {'min_samples_split': 13, 'max_leaf_nodes': 48.0, 'criterion': 'gini'}. Best is trial 3 with value: 0.09833333333333338.\u001b[0m\n",
      "\u001b[32m[I 2021-06-08 16:23:12,042]\u001b[0m Trial 32 finished with value: 0.11333333333333329 and parameters: {'min_samples_split': 15, 'max_leaf_nodes': 48.0, 'criterion': 'gini'}. Best is trial 3 with value: 0.09833333333333338.\u001b[0m\n",
      "\u001b[32m[I 2021-06-08 16:23:12,181]\u001b[0m Trial 33 finished with value: 0.10499999999999998 and parameters: {'min_samples_split': 14, 'max_leaf_nodes': 64.0, 'criterion': 'gini'}. Best is trial 3 with value: 0.09833333333333338.\u001b[0m\n",
      "\u001b[32m[I 2021-06-08 16:23:12,325]\u001b[0m Trial 34 finished with value: 0.11166666666666669 and parameters: {'min_samples_split': 10, 'max_leaf_nodes': 32.0, 'criterion': 'entropy'}. Best is trial 3 with value: 0.09833333333333338.\u001b[0m\n",
      "\u001b[32m[I 2021-06-08 16:23:12,452]\u001b[0m Trial 35 finished with value: 0.1233333333333333 and parameters: {'min_samples_split': 15, 'max_leaf_nodes': 36.0, 'criterion': 'gini'}. Best is trial 3 with value: 0.09833333333333338.\u001b[0m\n"
     ]
    },
    {
     "name": "stderr",
     "output_type": "stream",
     "text": [
      "\u001b[32m[I 2021-06-08 16:23:12,599]\u001b[0m Trial 36 finished with value: 0.09833333333333338 and parameters: {'min_samples_split': 14, 'max_leaf_nodes': 60.0, 'criterion': 'entropy'}. Best is trial 3 with value: 0.09833333333333338.\u001b[0m\n",
      "\u001b[32m[I 2021-06-08 16:23:12,748]\u001b[0m Trial 37 finished with value: 0.09999999999999998 and parameters: {'min_samples_split': 15, 'max_leaf_nodes': 64.0, 'criterion': 'entropy'}. Best is trial 3 with value: 0.09833333333333338.\u001b[0m\n",
      "\u001b[32m[I 2021-06-08 16:23:12,897]\u001b[0m Trial 38 finished with value: 0.10166666666666668 and parameters: {'min_samples_split': 15, 'max_leaf_nodes': 64.0, 'criterion': 'entropy'}. Best is trial 3 with value: 0.09833333333333338.\u001b[0m\n",
      "\u001b[32m[I 2021-06-08 16:23:13,052]\u001b[0m Trial 39 finished with value: 0.10833333333333328 and parameters: {'min_samples_split': 16, 'max_leaf_nodes': 64.0, 'criterion': 'entropy'}. Best is trial 3 with value: 0.09833333333333338.\u001b[0m\n",
      "\u001b[32m[I 2021-06-08 16:23:13,204]\u001b[0m Trial 40 finished with value: 0.09833333333333338 and parameters: {'min_samples_split': 15, 'max_leaf_nodes': 56.0, 'criterion': 'entropy'}. Best is trial 3 with value: 0.09833333333333338.\u001b[0m\n",
      "\u001b[32m[I 2021-06-08 16:23:13,349]\u001b[0m Trial 41 finished with value: 0.10833333333333328 and parameters: {'min_samples_split': 15, 'max_leaf_nodes': 56.0, 'criterion': 'entropy'}. Best is trial 3 with value: 0.09833333333333338.\u001b[0m\n",
      "\u001b[32m[I 2021-06-08 16:23:13,501]\u001b[0m Trial 42 finished with value: 0.10333333333333339 and parameters: {'min_samples_split': 14, 'max_leaf_nodes': 60.0, 'criterion': 'entropy'}. Best is trial 3 with value: 0.09833333333333338.\u001b[0m\n",
      "\u001b[32m[I 2021-06-08 16:23:13,646]\u001b[0m Trial 43 finished with value: 0.10833333333333328 and parameters: {'min_samples_split': 15, 'max_leaf_nodes': 56.0, 'criterion': 'entropy'}. Best is trial 3 with value: 0.09833333333333338.\u001b[0m\n",
      "\u001b[32m[I 2021-06-08 16:23:13,797]\u001b[0m Trial 44 finished with value: 0.09999999999999998 and parameters: {'min_samples_split': 16, 'max_leaf_nodes': 64.0, 'criterion': 'entropy'}. Best is trial 3 with value: 0.09833333333333338.\u001b[0m\n",
      "\u001b[32m[I 2021-06-08 16:23:13,945]\u001b[0m Trial 45 finished with value: 0.10333333333333339 and parameters: {'min_samples_split': 16, 'max_leaf_nodes': 64.0, 'criterion': 'entropy'}. Best is trial 3 with value: 0.09833333333333338.\u001b[0m\n",
      "\u001b[32m[I 2021-06-08 16:23:14,095]\u001b[0m Trial 46 finished with value: 0.09999999999999998 and parameters: {'min_samples_split': 16, 'max_leaf_nodes': 52.0, 'criterion': 'entropy'}. Best is trial 3 with value: 0.09833333333333338.\u001b[0m\n",
      "\u001b[32m[I 2021-06-08 16:23:14,246]\u001b[0m Trial 47 finished with value: 0.09999999999999998 and parameters: {'min_samples_split': 16, 'max_leaf_nodes': 52.0, 'criterion': 'entropy'}. Best is trial 3 with value: 0.09833333333333338.\u001b[0m\n",
      "\u001b[32m[I 2021-06-08 16:23:14,390]\u001b[0m Trial 48 finished with value: 0.09999999999999998 and parameters: {'min_samples_split': 14, 'max_leaf_nodes': 52.0, 'criterion': 'entropy'}. Best is trial 3 with value: 0.09833333333333338.\u001b[0m\n",
      "\u001b[32m[I 2021-06-08 16:23:14,541]\u001b[0m Trial 49 finished with value: 0.10333333333333339 and parameters: {'min_samples_split': 14, 'max_leaf_nodes': 56.0, 'criterion': 'entropy'}. Best is trial 3 with value: 0.09833333333333338.\u001b[0m\n",
      "\u001b[32m[I 2021-06-08 16:23:14,688]\u001b[0m Trial 50 finished with value: 0.10666666666666669 and parameters: {'min_samples_split': 16, 'max_leaf_nodes': 60.0, 'criterion': 'entropy'}. Best is trial 3 with value: 0.09833333333333338.\u001b[0m\n",
      "\u001b[32m[I 2021-06-08 16:23:14,837]\u001b[0m Trial 51 finished with value: 0.10833333333333328 and parameters: {'min_samples_split': 16, 'max_leaf_nodes': 52.0, 'criterion': 'entropy'}. Best is trial 3 with value: 0.09833333333333338.\u001b[0m\n",
      "\u001b[32m[I 2021-06-08 16:23:14,985]\u001b[0m Trial 52 finished with value: 0.09833333333333338 and parameters: {'min_samples_split': 14, 'max_leaf_nodes': 52.0, 'criterion': 'entropy'}. Best is trial 3 with value: 0.09833333333333338.\u001b[0m\n",
      "\u001b[32m[I 2021-06-08 16:23:15,133]\u001b[0m Trial 53 finished with value: 0.10166666666666668 and parameters: {'min_samples_split': 15, 'max_leaf_nodes': 64.0, 'criterion': 'entropy'}. Best is trial 3 with value: 0.09833333333333338.\u001b[0m\n",
      "\u001b[32m[I 2021-06-08 16:23:15,278]\u001b[0m Trial 54 finished with value: 0.10166666666666668 and parameters: {'min_samples_split': 14, 'max_leaf_nodes': 40.0, 'criterion': 'entropy'}. Best is trial 3 with value: 0.09833333333333338.\u001b[0m\n",
      "\u001b[32m[I 2021-06-08 16:23:15,424]\u001b[0m Trial 55 finished with value: 0.10166666666666668 and parameters: {'min_samples_split': 14, 'max_leaf_nodes': 56.0, 'criterion': 'entropy'}. Best is trial 3 with value: 0.09833333333333338.\u001b[0m\n",
      "\u001b[32m[I 2021-06-08 16:23:15,579]\u001b[0m Trial 56 finished with value: 0.10666666666666669 and parameters: {'min_samples_split': 14, 'max_leaf_nodes': 52.0, 'criterion': 'entropy'}. Best is trial 3 with value: 0.09833333333333338.\u001b[0m\n",
      "\u001b[32m[I 2021-06-08 16:23:15,715]\u001b[0m Trial 57 finished with value: 0.1333333333333333 and parameters: {'min_samples_split': 15, 'max_leaf_nodes': 20.0, 'criterion': 'entropy'}. Best is trial 3 with value: 0.09833333333333338.\u001b[0m\n",
      "\u001b[32m[I 2021-06-08 16:23:15,862]\u001b[0m Trial 58 finished with value: 0.10666666666666669 and parameters: {'min_samples_split': 16, 'max_leaf_nodes': 60.0, 'criterion': 'entropy'}. Best is trial 3 with value: 0.09833333333333338.\u001b[0m\n",
      "\u001b[32m[I 2021-06-08 16:23:16,015]\u001b[0m Trial 59 finished with value: 0.10333333333333339 and parameters: {'min_samples_split': 13, 'max_leaf_nodes': 56.0, 'criterion': 'entropy'}. Best is trial 3 with value: 0.09833333333333338.\u001b[0m\n",
      "\u001b[32m[I 2021-06-08 16:23:16,170]\u001b[0m Trial 60 finished with value: 0.09833333333333338 and parameters: {'min_samples_split': 15, 'max_leaf_nodes': 60.0, 'criterion': 'entropy'}. Best is trial 3 with value: 0.09833333333333338.\u001b[0m\n",
      "\u001b[32m[I 2021-06-08 16:23:16,319]\u001b[0m Trial 61 finished with value: 0.11166666666666669 and parameters: {'min_samples_split': 15, 'max_leaf_nodes': 60.0, 'criterion': 'entropy'}. Best is trial 3 with value: 0.09833333333333338.\u001b[0m\n",
      "\u001b[32m[I 2021-06-08 16:23:16,479]\u001b[0m Trial 62 finished with value: 0.09999999999999998 and parameters: {'min_samples_split': 15, 'max_leaf_nodes': 64.0, 'criterion': 'entropy'}. Best is trial 3 with value: 0.09833333333333338.\u001b[0m\n",
      "\u001b[32m[I 2021-06-08 16:23:16,634]\u001b[0m Trial 63 finished with value: 0.10333333333333339 and parameters: {'min_samples_split': 15, 'max_leaf_nodes': 64.0, 'criterion': 'entropy'}. Best is trial 3 with value: 0.09833333333333338.\u001b[0m\n",
      "\u001b[32m[I 2021-06-08 16:23:16,787]\u001b[0m Trial 64 finished with value: 0.10833333333333328 and parameters: {'min_samples_split': 15, 'max_leaf_nodes': 64.0, 'criterion': 'entropy'}. Best is trial 3 with value: 0.09833333333333338.\u001b[0m\n",
      "\u001b[32m[I 2021-06-08 16:23:16,937]\u001b[0m Trial 65 finished with value: 0.09833333333333338 and parameters: {'min_samples_split': 14, 'max_leaf_nodes': 48.0, 'criterion': 'entropy'}. Best is trial 3 with value: 0.09833333333333338.\u001b[0m\n",
      "\u001b[32m[I 2021-06-08 16:23:17,095]\u001b[0m Trial 66 finished with value: 0.10166666666666668 and parameters: {'min_samples_split': 13, 'max_leaf_nodes': 48.0, 'criterion': 'entropy'}. Best is trial 3 with value: 0.09833333333333338.\u001b[0m\n",
      "\u001b[32m[I 2021-06-08 16:23:17,248]\u001b[0m Trial 67 finished with value: 0.10333333333333339 and parameters: {'min_samples_split': 14, 'max_leaf_nodes': 52.0, 'criterion': 'entropy'}. Best is trial 3 with value: 0.09833333333333338.\u001b[0m\n",
      "\u001b[32m[I 2021-06-08 16:23:17,391]\u001b[0m Trial 68 finished with value: 0.10999999999999999 and parameters: {'min_samples_split': 14, 'max_leaf_nodes': 40.0, 'criterion': 'entropy'}. Best is trial 3 with value: 0.09833333333333338.\u001b[0m\n",
      "\u001b[32m[I 2021-06-08 16:23:17,539]\u001b[0m Trial 69 finished with value: 0.10666666666666669 and parameters: {'min_samples_split': 12, 'max_leaf_nodes': 44.0, 'criterion': 'entropy'}. Best is trial 3 with value: 0.09833333333333338.\u001b[0m\n",
      "\u001b[32m[I 2021-06-08 16:23:17,687]\u001b[0m Trial 70 finished with value: 0.10333333333333339 and parameters: {'min_samples_split': 13, 'max_leaf_nodes': 48.0, 'criterion': 'entropy'}. Best is trial 3 with value: 0.09833333333333338.\u001b[0m\n",
      "\u001b[32m[I 2021-06-08 16:23:17,841]\u001b[0m Trial 71 finished with value: 0.10333333333333339 and parameters: {'min_samples_split': 15, 'max_leaf_nodes': 56.0, 'criterion': 'entropy'}. Best is trial 3 with value: 0.09833333333333338.\u001b[0m\n"
     ]
    },
    {
     "name": "stderr",
     "output_type": "stream",
     "text": [
      "\u001b[32m[I 2021-06-08 16:23:17,990]\u001b[0m Trial 72 finished with value: 0.09999999999999998 and parameters: {'min_samples_split': 15, 'max_leaf_nodes': 60.0, 'criterion': 'entropy'}. Best is trial 3 with value: 0.09833333333333338.\u001b[0m\n",
      "\u001b[32m[I 2021-06-08 16:23:18,150]\u001b[0m Trial 73 finished with value: 0.09833333333333338 and parameters: {'min_samples_split': 14, 'max_leaf_nodes': 56.0, 'criterion': 'entropy'}. Best is trial 3 with value: 0.09833333333333338.\u001b[0m\n",
      "\u001b[32m[I 2021-06-08 16:23:18,295]\u001b[0m Trial 74 finished with value: 0.10333333333333339 and parameters: {'min_samples_split': 14, 'max_leaf_nodes': 52.0, 'criterion': 'entropy'}. Best is trial 3 with value: 0.09833333333333338.\u001b[0m\n",
      "\u001b[32m[I 2021-06-08 16:23:18,424]\u001b[0m Trial 75 finished with value: 0.10166666666666668 and parameters: {'min_samples_split': 14, 'max_leaf_nodes': 60.0, 'criterion': 'gini'}. Best is trial 3 with value: 0.09833333333333338.\u001b[0m\n",
      "\u001b[32m[I 2021-06-08 16:23:18,576]\u001b[0m Trial 76 finished with value: 0.09499999999999997 and parameters: {'min_samples_split': 13, 'max_leaf_nodes': 56.0, 'criterion': 'entropy'}. Best is trial 76 with value: 0.09499999999999997.\u001b[0m\n",
      "\u001b[32m[I 2021-06-08 16:23:18,728]\u001b[0m Trial 77 finished with value: 0.09999999999999998 and parameters: {'min_samples_split': 13, 'max_leaf_nodes': 56.0, 'criterion': 'entropy'}. Best is trial 76 with value: 0.09499999999999997.\u001b[0m\n",
      "\u001b[32m[I 2021-06-08 16:23:18,876]\u001b[0m Trial 78 finished with value: 0.09999999999999998 and parameters: {'min_samples_split': 13, 'max_leaf_nodes': 56.0, 'criterion': 'entropy'}. Best is trial 76 with value: 0.09499999999999997.\u001b[0m\n",
      "\u001b[32m[I 2021-06-08 16:23:19,025]\u001b[0m Trial 79 finished with value: 0.10333333333333339 and parameters: {'min_samples_split': 14, 'max_leaf_nodes': 60.0, 'criterion': 'entropy'}. Best is trial 76 with value: 0.09499999999999997.\u001b[0m\n",
      "\u001b[32m[I 2021-06-08 16:23:19,175]\u001b[0m Trial 80 finished with value: 0.10499999999999998 and parameters: {'min_samples_split': 13, 'max_leaf_nodes': 56.0, 'criterion': 'entropy'}. Best is trial 76 with value: 0.09499999999999997.\u001b[0m\n",
      "\u001b[32m[I 2021-06-08 16:23:19,320]\u001b[0m Trial 81 finished with value: 0.10833333333333328 and parameters: {'min_samples_split': 14, 'max_leaf_nodes': 60.0, 'criterion': 'entropy'}. Best is trial 76 with value: 0.09499999999999997.\u001b[0m\n",
      "\u001b[32m[I 2021-06-08 16:23:19,468]\u001b[0m Trial 82 finished with value: 0.10166666666666668 and parameters: {'min_samples_split': 14, 'max_leaf_nodes': 56.0, 'criterion': 'entropy'}. Best is trial 76 with value: 0.09499999999999997.\u001b[0m\n",
      "\u001b[32m[I 2021-06-08 16:23:19,615]\u001b[0m Trial 83 finished with value: 0.09999999999999998 and parameters: {'min_samples_split': 15, 'max_leaf_nodes': 60.0, 'criterion': 'entropy'}. Best is trial 76 with value: 0.09499999999999997.\u001b[0m\n",
      "\u001b[32m[I 2021-06-08 16:23:19,746]\u001b[0m Trial 84 finished with value: 0.1216666666666667 and parameters: {'min_samples_split': 14, 'max_leaf_nodes': 52.0, 'criterion': 'gini'}. Best is trial 76 with value: 0.09499999999999997.\u001b[0m\n",
      "\u001b[32m[I 2021-06-08 16:23:19,890]\u001b[0m Trial 85 finished with value: 0.10999999999999999 and parameters: {'min_samples_split': 15, 'max_leaf_nodes': 56.0, 'criterion': 'entropy'}. Best is trial 76 with value: 0.09499999999999997.\u001b[0m\n",
      "\u001b[32m[I 2021-06-08 16:23:20,022]\u001b[0m Trial 86 finished with value: 0.10666666666666669 and parameters: {'min_samples_split': 13, 'max_leaf_nodes': 60.0, 'criterion': 'gini'}. Best is trial 76 with value: 0.09499999999999997.\u001b[0m\n",
      "\u001b[32m[I 2021-06-08 16:23:20,154]\u001b[0m Trial 87 finished with value: 0.10666666666666669 and parameters: {'min_samples_split': 15, 'max_leaf_nodes': 48.0, 'criterion': 'gini'}. Best is trial 76 with value: 0.09499999999999997.\u001b[0m\n",
      "\u001b[32m[I 2021-06-08 16:23:20,298]\u001b[0m Trial 88 finished with value: 0.10333333333333339 and parameters: {'min_samples_split': 12, 'max_leaf_nodes': 52.0, 'criterion': 'entropy'}. Best is trial 76 with value: 0.09499999999999997.\u001b[0m\n",
      "\u001b[32m[I 2021-06-08 16:23:20,454]\u001b[0m Trial 89 finished with value: 0.09999999999999998 and parameters: {'min_samples_split': 15, 'max_leaf_nodes': 64.0, 'criterion': 'entropy'}. Best is trial 76 with value: 0.09499999999999997.\u001b[0m\n",
      "\u001b[32m[I 2021-06-08 16:23:20,604]\u001b[0m Trial 90 finished with value: 0.09999999999999998 and parameters: {'min_samples_split': 16, 'max_leaf_nodes': 60.0, 'criterion': 'entropy'}. Best is trial 76 with value: 0.09499999999999997.\u001b[0m\n",
      "\u001b[32m[I 2021-06-08 16:23:20,758]\u001b[0m Trial 91 finished with value: 0.10166666666666668 and parameters: {'min_samples_split': 14, 'max_leaf_nodes': 64.0, 'criterion': 'entropy'}. Best is trial 76 with value: 0.09499999999999997.\u001b[0m\n",
      "\u001b[32m[I 2021-06-08 16:23:20,886]\u001b[0m Trial 92 finished with value: 0.10333333333333339 and parameters: {'min_samples_split': 15, 'max_leaf_nodes': 56.0, 'criterion': 'gini'}. Best is trial 76 with value: 0.09499999999999997.\u001b[0m\n",
      "\u001b[32m[I 2021-06-08 16:23:21,036]\u001b[0m Trial 93 finished with value: 0.10666666666666669 and parameters: {'min_samples_split': 16, 'max_leaf_nodes': 52.0, 'criterion': 'entropy'}. Best is trial 76 with value: 0.09499999999999997.\u001b[0m\n",
      "\u001b[32m[I 2021-06-08 16:23:21,186]\u001b[0m Trial 94 finished with value: 0.10833333333333328 and parameters: {'min_samples_split': 14, 'max_leaf_nodes': 52.0, 'criterion': 'entropy'}. Best is trial 76 with value: 0.09499999999999997.\u001b[0m\n",
      "\u001b[32m[I 2021-06-08 16:23:21,332]\u001b[0m Trial 95 finished with value: 0.10499999999999998 and parameters: {'min_samples_split': 15, 'max_leaf_nodes': 60.0, 'criterion': 'entropy'}. Best is trial 76 with value: 0.09499999999999997.\u001b[0m\n",
      "\u001b[32m[I 2021-06-08 16:23:21,482]\u001b[0m Trial 96 finished with value: 0.11166666666666669 and parameters: {'min_samples_split': 16, 'max_leaf_nodes': 48.0, 'criterion': 'entropy'}. Best is trial 76 with value: 0.09499999999999997.\u001b[0m\n",
      "\u001b[32m[I 2021-06-08 16:23:21,630]\u001b[0m Trial 97 finished with value: 0.10333333333333339 and parameters: {'min_samples_split': 12, 'max_leaf_nodes': 56.0, 'criterion': 'entropy'}. Best is trial 76 with value: 0.09499999999999997.\u001b[0m\n",
      "\u001b[32m[I 2021-06-08 16:23:21,783]\u001b[0m Trial 98 finished with value: 0.10499999999999998 and parameters: {'min_samples_split': 13, 'max_leaf_nodes': 52.0, 'criterion': 'entropy'}. Best is trial 76 with value: 0.09499999999999997.\u001b[0m\n",
      "\u001b[32m[I 2021-06-08 16:23:21,913]\u001b[0m Trial 99 finished with value: 0.1166666666666667 and parameters: {'min_samples_split': 15, 'max_leaf_nodes': 60.0, 'criterion': 'gini'}. Best is trial 76 with value: 0.09499999999999997.\u001b[0m\n"
     ]
    }
   ],
   "source": [
    "#optuna\n",
    "import optuna\n",
    "study = optuna.create_study()\n",
    "study.optimize(objective, n_trials = 100)"
   ]
  },
  {
   "cell_type": "code",
   "execution_count": 42,
   "id": "5eb74eee",
   "metadata": {},
   "outputs": [
    {
     "data": {
      "text/plain": [
       "{'min_samples_split': 13, 'max_leaf_nodes': 56.0, 'criterion': 'entropy'}"
      ]
     },
     "execution_count": 42,
     "metadata": {},
     "output_type": "execute_result"
    }
   ],
   "source": [
    "study.best_params    # 求めたハイパーパラメータ\n"
   ]
  },
  {
   "cell_type": "code",
   "execution_count": 43,
   "id": "dd2af221",
   "metadata": {},
   "outputs": [],
   "source": [
    "RFC = RandomForestClassifier(min_samples_split = 9, \n",
    "                                max_leaf_nodes = 44,\n",
    "                                criterion = 'entropy')"
   ]
  },
  {
   "cell_type": "code",
   "execution_count": 46,
   "id": "8e346f85",
   "metadata": {},
   "outputs": [
    {
     "data": {
      "text/plain": [
       "RandomForestClassifier(criterion='entropy', max_leaf_nodes=44,\n",
       "                       min_samples_split=9)"
      ]
     },
     "execution_count": 46,
     "metadata": {},
     "output_type": "execute_result"
    }
   ],
   "source": [
    "RFC.fit(x_train,y_train)"
   ]
  },
  {
   "cell_type": "code",
   "execution_count": 49,
   "id": "661a9f17",
   "metadata": {},
   "outputs": [],
   "source": [
    "pred_op = RFC.predict(x_test)"
   ]
  },
  {
   "cell_type": "code",
   "execution_count": 50,
   "id": "7eed5da1",
   "metadata": {},
   "outputs": [
    {
     "name": "stdout",
     "output_type": "stream",
     "text": [
      "score= 0.8916666666666667\n"
     ]
    }
   ],
   "source": [
    "print('score=',RFC.score(x_test,y_test))"
   ]
  },
  {
   "cell_type": "code",
   "execution_count": null,
   "id": "7cf99a15",
   "metadata": {},
   "outputs": [],
   "source": []
  },
  {
   "cell_type": "code",
   "execution_count": null,
   "id": "212e3833",
   "metadata": {},
   "outputs": [],
   "source": []
  },
  {
   "cell_type": "code",
   "execution_count": null,
   "id": "a23e3ea6",
   "metadata": {},
   "outputs": [],
   "source": []
  }
 ],
 "metadata": {
  "kernelspec": {
   "display_name": "Python 3",
   "language": "python",
   "name": "python3"
  },
  "language_info": {
   "codemirror_mode": {
    "name": "ipython",
    "version": 3
   },
   "file_extension": ".py",
   "mimetype": "text/x-python",
   "name": "python",
   "nbconvert_exporter": "python",
   "pygments_lexer": "ipython3",
   "version": "3.9.2"
  }
 },
 "nbformat": 4,
 "nbformat_minor": 5
}
